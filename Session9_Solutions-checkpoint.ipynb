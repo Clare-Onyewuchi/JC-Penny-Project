{
 "cells": [
  {
   "cell_type": "markdown",
   "metadata": {},
   "source": [
    "# Session 9 Natural language processing\n",
    "## Learning outcomes\n",
    "\n",
    "By the end of this session, you will be able to:\n",
    "- Process text with Natural Language Tool Kit (NLTK)\n",
    "- Navigate Wordnet\n",
    "- Perform sentiment analysis with VADER\n"
   ]
  },
  {
   "cell_type": "markdown",
   "metadata": {},
   "source": [
    "# 9.3a Introducing the Natural Language Toolkit"
   ]
  },
  {
   "cell_type": "markdown",
   "metadata": {},
   "source": [
    "### Your first task is just to get the following cell to execute without an error\n",
    "If you haven't already, you will have to install NLTK and the \"book\" data.  \n",
    "If this cell executes without an error you've accomplished that already.\n",
    "\n",
    "If you are concerned with storage space on your own machine you can use https://colab.research.google.com however, then you will have to use the \"notebook method\" to download the data needed (it might take a bit longer)"
   ]
  },
  {
   "cell_type": "code",
   "execution_count": 1,
   "metadata": {},
   "outputs": [
    {
     "name": "stdout",
     "output_type": "stream",
     "text": [
      "*** Introductory Examples for the NLTK Book ***\n",
      "Loading text1, ..., text9 and sent1, ..., sent9\n",
      "Type the name of the text or sentence to view it.\n",
      "Type: 'texts()' or 'sents()' to list the materials.\n",
      "text1: Moby Dick by Herman Melville 1851\n",
      "text2: Sense and Sensibility by Jane Austen 1811\n",
      "text3: The Book of Genesis\n",
      "text4: Inaugural Address Corpus\n",
      "text5: Chat Corpus\n",
      "text6: Monty Python and the Holy Grail\n",
      "text7: Wall Street Journal\n",
      "text8: Personals Corpus\n",
      "text9: The Man Who Was Thursday by G . K . Chesterton 1908\n"
     ]
    }
   ],
   "source": [
    "import matplotlib.pyplot as plt\n",
    "import nltk\n",
    "from nltk.book import *"
   ]
  },
  {
   "cell_type": "markdown",
   "metadata": {},
   "source": [
    "# 9.3b Tokenization"
   ]
  },
  {
   "cell_type": "markdown",
   "metadata": {},
   "source": [
    "### Open and read contents of the file \"passage_from_Bambi.txt\" into a single string variable\n",
    "\n",
    "Call the string variable __bambi__  \n",
    "Print/display the string to see its contents\n",
    "\n",
    "*display() should show you the \"raw\" unicode contents and make visible the symbols for whitespace characters*"
   ]
  },
  {
   "cell_type": "code",
   "execution_count": 2,
   "metadata": {},
   "outputs": [
    {
     "name": "stdout",
     "output_type": "stream",
     "text": [
      "It was in a space in a thicket that he came into the world, in one of\n",
      "those little, hidden places in the wood which seem to be open on every\n",
      "side but which in fact are completely surrounded by foliage. That is\n",
      "why there was so little room there, but just enough for him and his\n",
      "mother.\n",
      "\n",
      "He stood up, he staggered on his thin legs as he wondered what was\n",
      "happening, looked out with eyes which were dull, wondered what was\n",
      "happening but saw nothing, dropped his head, shuddered severely, and\n",
      "was quite numb.\n",
      "\n",
      "“What a beautiful child!” declared the magpie.\n",
      "\n",
      "She had rushed to the place, drawn by the breathy groans she heard\n",
      "forced from Bambi’s mother by her pain. Now the magpie sat on a branch\n",
      "nearby. “What a beautiful child!” she exclaimed again. No-one answered\n",
      "her and she continued speaking excitedly. “And he can already stand up\n",
      "and walk. That’s amazing! That’s so interesting! I’ve never seen\n",
      "anything like it in me life. Well, I’m still young of course, it’s\n",
      "only a year since I left the nest, but I expect you know that. But I\n",
      "think it’s wonderful. A child like this ... he’s only been born a\n",
      "second and he can already stand. I think it’s very noble of him. And\n",
      "most of all, I find that everything done by you deer is very\n",
      "noble. Can he already run too?”\n",
      "\n",
      "“Of course,” answered Bambi’s mother gently. “But you’ll have to\n",
      "excuse me, I’m not really in a good condition to chat with you.\n",
      "There’s a lot that I’ve got to do ... and besides, I’m feeling quite\n",
      "tired.”\n",
      "\n",
      "“Oh, don’t let me disturb you,” said the magpie, “I’m in a bit of a\n",
      "rush today, too! But it’s not every day that you see something like\n",
      "this. I ask you, think of how awkward it is for us in these things,\n",
      "and how much hard work! The children just can’t do anything when they\n",
      "first hatch from the egg, they just lie there in the nest quite\n",
      "helpless, and need to be looked after, they always need to be looked\n",
      "after I tell you, I’m sure you’ve got no idea what it’s like. It’s so\n",
      "much hard work just to keep ‘em fed, and they need to be protected,\n",
      "it’s so worrying! I ask you, just think how strenuous all that is,\n",
      "getting food for the children and having to watch over them at the\n",
      "same time so that nothing happens to ‘em; if you’re not there they can\n",
      "do nothing for themselves. Am I not right? And you have to wait so\n",
      "long before they start to move, so long before they get their first\n",
      "feathers and start to look a bit decent!”\n",
      "\n",
      "“Please forgive me,” Bambi’s mother said, “I wasn’t really listening.”\n",
      "\n",
      "The magpie flew away. “Stupid person,” she thought to herself, “noble,\n",
      "but stupid!”\n",
      "\n",
      "Bambi’s mother barely noticed, and continued vigorously washing her\n",
      "newborn. She washed it with her tongue and so performed several tasks\n",
      "at once, care for his body, a warming massage and a display of her\n",
      "affection.\n"
     ]
    }
   ],
   "source": [
    "with open('passage_from_Bambi.txt') as fid:\n",
    "    bambi = fid.read()\n",
    "print(bambi)"
   ]
  },
  {
   "cell_type": "markdown",
   "metadata": {},
   "source": [
    "### Make 3 \"tokenised\" versions of the text\n",
    "Create the 3 following variables:\n",
    "- __paragraphs__: A list containing each paragraph as separate item (paragraphs are separated by two new lines)\n",
    "- __sentences__: A list containing each sentence as separate item \n",
    " * you can choose your own definition of what constitutes a sentence, simplest is just to define full stops or equivalent punctuations as the separators\n",
    " * if you can, remove white spaces at the start and end of each sentence\n",
    "- __words__: A list containing each word as separate item (keep punctuations but discard white spaces)\n",
    "\n",
    "Print the first __2__ items of each list\n",
    "\n",
    "A proper tokenisation would add a bit more info and/or context but here we are just splitting the text into potential tokens\n",
    "\n",
    "*hint: if you want to just use built in string splitting on multiple separators you can use __replace()__ first to make them all the same before splitting*"
   ]
  },
  {
   "cell_type": "code",
   "execution_count": 3,
   "metadata": {},
   "outputs": [
    {
     "data": {
      "text/plain": [
       "['It was in a space in a thicket that he came into the world, in one of\\nthose little, hidden places in the wood which seem to be open on every\\nside but which in fact are completely surrounded by foliage. That is\\nwhy there was so little room there, but just enough for him and his\\nmother.',\n",
       " 'He stood up, he staggered on his thin legs as he wondered what was\\nhappening, looked out with eyes which were dull, wondered what was\\nhappening but saw nothing, dropped his head, shuddered severely, and\\nwas quite numb.']"
      ]
     },
     "metadata": {},
     "output_type": "display_data"
    }
   ],
   "source": [
    "# Split text into paragraphs\n",
    "paragraphs = bambi.split('\\n\\n')\n",
    "display(paragraphs[:2])"
   ]
  },
  {
   "cell_type": "code",
   "execution_count": 4,
   "metadata": {},
   "outputs": [
    {
     "data": {
      "text/plain": [
       "['It was in a space in a thicket that he came into the world, in one of\\nthose little, hidden places in the wood which seem to be open on every\\nside but which in fact are completely surrounded by foliage',\n",
       " 'That is\\nwhy there was so little room there, but just enough for him and his\\nmother']"
      ]
     },
     "metadata": {},
     "output_type": "display_data"
    }
   ],
   "source": [
    "# Split the text into sentences\n",
    "# First we convert ? and ! to full stops so that we can use a single split\n",
    "sentences = bambi.replace('?','.').replace('!','.')\n",
    "sentences = sentences.split('.')\n",
    "\n",
    "# optional: have no white spaces at start and end of each sentence\n",
    "sentences = [sent.strip() for sent in sentences]\n",
    "\n",
    "display(sentences[:2])"
   ]
  },
  {
   "cell_type": "code",
   "execution_count": 5,
   "metadata": {},
   "outputs": [
    {
     "name": "stdout",
     "output_type": "stream",
     "text": [
      "['It', 'was']\n"
     ]
    }
   ],
   "source": [
    "# Split the text into words\n",
    "words = bambi.split()\n",
    "print(words[:2])"
   ]
  },
  {
   "cell_type": "markdown",
   "metadata": {},
   "source": [
    "### Remove all __new line__ characters from every item in the sentences variable and replace them with a single space\n",
    "You can do this with a list comprehension or you can create a new list variable and append each sentence after you have replaced the new line characters in it\n",
    "\n",
    "The new line character is denoted with __a backslash and an n__\n",
    "\n",
    "Print or display the first sentence before and after to make sure it worked"
   ]
  },
  {
   "cell_type": "code",
   "execution_count": 6,
   "metadata": {},
   "outputs": [
    {
     "name": "stdout",
     "output_type": "stream",
     "text": [
      "It was in a space in a thicket that he came into the world, in one of\n",
      "those little, hidden places in the wood which seem to be open on every\n",
      "side but which in fact are completely surrounded by foliage\n",
      "It was in a space in a thicket that he came into the world, in one of those little, hidden places in the wood which seem to be open on every side but which in fact are completely surrounded by foliage\n"
     ]
    }
   ],
   "source": [
    "# The backslash characte is \\n\n",
    "print(sentences[0])\n",
    "\n",
    "# With a list comprehension\n",
    "sentences = [sen.replace('\\n',' ') for sen in sentences]\n",
    "\n",
    "# With a regular for loop\n",
    "clean_sent = []\n",
    "for sen in sentences:\n",
    "    clean_sent.append(sen.replace('\\n',' '))\n",
    "sentences = clean_sent # Overwriting the old list with the clean new one\n",
    "\n",
    "print(sentences[0])"
   ]
  },
  {
   "cell_type": "markdown",
   "metadata": {},
   "source": [
    "### Use NLTK to tokenize the Bambi text into sentences and words\n",
    "Call the two lists __nltk_sentences__ and __nltk_words__\n",
    "\n",
    "__You will use these same variables for exercise tasks further below in this notebook__\n",
    "\n",
    "Display or print the first 3 items in each list"
   ]
  },
  {
   "cell_type": "code",
   "execution_count": 7,
   "metadata": {},
   "outputs": [
    {
     "data": {
      "text/plain": [
       "['It was in a space in a thicket that he came into the world, in one of\\nthose little, hidden places in the wood which seem to be open on every\\nside but which in fact are completely surrounded by foliage.',\n",
       " 'That is\\nwhy there was so little room there, but just enough for him and his\\nmother.',\n",
       " 'He stood up, he staggered on his thin legs as he wondered what was\\nhappening, looked out with eyes which were dull, wondered what was\\nhappening but saw nothing, dropped his head, shuddered severely, and\\nwas quite numb.']"
      ]
     },
     "metadata": {},
     "output_type": "display_data"
    },
    {
     "data": {
      "text/plain": [
       "['It', 'was', 'in']"
      ]
     },
     "metadata": {},
     "output_type": "display_data"
    }
   ],
   "source": [
    "# Sentence tokenization\n",
    "nltk_sentences = nltk.tokenize.sent_tokenize(bambi)\n",
    "\n",
    "# Word tokenization\n",
    "nltk_words = nltk.tokenize.word_tokenize(bambi)\n",
    "\n",
    "display(nltk_sentences[:3])\n",
    "display(nltk_words[:3])"
   ]
  },
  {
   "cell_type": "markdown",
   "metadata": {},
   "source": [
    "### Answer the following questions\n",
    "1. How many word tokens does the text contain?\n",
    "2. How many unique word tokens does it contain?\n",
    "3. What is the lexical diversity of the text, with respect to word tokens?\n",
    "4. How many hapaxes does the text contain?\n",
    "\n",
    "Print out the answers with an appropriate text, e.g.: \"1. The text contains *X* words\"\n",
    "\n",
    "*Disregard cases, spelling, and punctuation, that is, we don't care about that at the moment, just use either one of the word lists you have already tokenised*\n",
    "\n",
    "You can use either NLTK functions/classes (i.e. FreqDist) or just built in functions\n",
    "\n",
    "*Lexical diversity, in this case, is the ratio of unique words to total number of words*  \n",
    "*Hapaxes are words that appears only once*"
   ]
  },
  {
   "cell_type": "code",
   "execution_count": 8,
   "metadata": {},
   "outputs": [
    {
     "name": "stdout",
     "output_type": "stream",
     "text": [
      "1. The text contains 520 words\n",
      "2. There are 302 unique words\n",
      "3. The lexical diversity is 0.5807692307692308\n",
      "4. There are 225 hapaxes in the text\n"
     ]
    }
   ],
   "source": [
    "# Write your code here\n",
    "n_words = len(words)\n",
    "n_unique = len(set(words))\n",
    "lex_div = n_unique/n_words\n",
    "fdist = FreqDist(words)\n",
    "n_hapaxes = len(fdist.hapaxes())\n",
    "\n",
    "print(f'1. The text contains {n_words} words')\n",
    "print(f'2. There are {n_unique} unique words')\n",
    "print(f'3. The lexical diversity is {lex_div}')\n",
    "print(f'4. There are {n_hapaxes} hapaxes in the text')"
   ]
  },
  {
   "cell_type": "markdown",
   "metadata": {},
   "source": [
    "### Use FreqDist from NLTK to plot the 15 most frequent words\n",
    "You will also have to use Pyplot\n",
    "\n",
    "Just make a simple plot, no need for anything fancy"
   ]
  },
  {
   "cell_type": "code",
   "execution_count": 9,
   "metadata": {},
   "outputs": [
    {
     "data": {
      "image/png": "[encoded data removed]",
      "text/plain": [
       "<Figure size 864x864 with 1 Axes>"
      ]
     },
     "metadata": {
      "needs_background": "light"
     },
     "output_type": "display_data"
    },
    {
     "data": {
      "text/plain": [
       "<matplotlib.axes._subplots.AxesSubplot at 0x1a1cc20050>"
      ]
     },
     "execution_count": 9,
     "metadata": {},
     "output_type": "execute_result"
    }
   ],
   "source": [
    "plt.figure(figsize=(12,12))\n",
    "fdist.plot(15)"
   ]
  },
  {
   "cell_type": "markdown",
   "metadata": {},
   "source": [
    "# 9.4a Parts of speech identification\n",
    "We will continue this part with the text from above, i.e. a sample from the first chapter of Bambi."
   ]
  },
  {
   "cell_type": "markdown",
   "metadata": {},
   "source": [
    "### Find the parts of speech tags the Bambi text\n",
    "Save the list of words-tags tuples as the variable __pos_list__  \n",
    "Display or print the first 50 tuples in the list\n",
    "\n",
    "Use the __nltk_words__ variable"
   ]
  },
  {
   "cell_type": "code",
   "execution_count": 10,
   "metadata": {},
   "outputs": [
    {
     "name": "stdout",
     "output_type": "stream",
     "text": [
      "[('It', 'PRP'), ('was', 'VBD'), ('in', 'IN'), ('a', 'DT'), ('space', 'NN'), ('in', 'IN'), ('a', 'DT'), ('thicket', 'NN'), ('that', 'IN'), ('he', 'PRP'), ('came', 'VBD'), ('into', 'IN'), ('the', 'DT'), ('world', 'NN'), (',', ','), ('in', 'IN'), ('one', 'CD'), ('of', 'IN'), ('those', 'DT'), ('little', 'JJ'), (',', ','), ('hidden', 'JJ'), ('places', 'NNS'), ('in', 'IN'), ('the', 'DT'), ('wood', 'NN'), ('which', 'WDT'), ('seem', 'VBP'), ('to', 'TO'), ('be', 'VB'), ('open', 'JJ'), ('on', 'IN'), ('every', 'DT'), ('side', 'NN'), ('but', 'CC'), ('which', 'WDT'), ('in', 'IN'), ('fact', 'NN'), ('are', 'VBP'), ('completely', 'RB'), ('surrounded', 'VBN'), ('by', 'IN'), ('foliage', 'NN'), ('.', '.'), ('That', 'DT'), ('is', 'VBZ'), ('why', 'WRB'), ('there', 'EX'), ('was', 'VBD'), ('so', 'RB')]\n"
     ]
    }
   ],
   "source": [
    "# Write your code here\n",
    "pos_list = nltk.pos_tag(nltk_words)\n",
    "print(pos_list[:50])"
   ]
  },
  {
   "cell_type": "markdown",
   "metadata": {},
   "source": [
    "### How many unique POS tags does the Bambi text have?\n",
    "This is the second item from each word-tag tuple."
   ]
  },
  {
   "cell_type": "code",
   "execution_count": 11,
   "metadata": {},
   "outputs": [
    {
     "name": "stdout",
     "output_type": "stream",
     "text": [
      "There are 30 unique POS tags.\n"
     ]
    }
   ],
   "source": [
    "just_the_tags = [tu[1] for tu in pos_list]\n",
    "n_unique_tags = len(set(just_the_tags))\n",
    "print('There are', n_unique_tags, 'unique POS tags.')"
   ]
  },
  {
   "cell_type": "markdown",
   "metadata": {},
   "source": [
    "# 9.4b Stemming and Lemmatization"
   ]
  },
  {
   "cell_type": "markdown",
   "metadata": {},
   "source": [
    "### Use the Porter stemmer to stem the Bambi text\n",
    "Save the list of stemmed words in a list called: __stemmed_words__  \n",
    "Print or display the first 20 words in the list\n",
    "\n",
    "You will have to stem each word separately, so use a for loop"
   ]
  },
  {
   "cell_type": "code",
   "execution_count": 12,
   "metadata": {},
   "outputs": [
    {
     "data": {
      "text/plain": [
       "['It',\n",
       " 'wa',\n",
       " 'in',\n",
       " 'a',\n",
       " 'space',\n",
       " 'in',\n",
       " 'a',\n",
       " 'thicket',\n",
       " 'that',\n",
       " 'he',\n",
       " 'came',\n",
       " 'into',\n",
       " 'the',\n",
       " 'world',\n",
       " ',',\n",
       " 'in',\n",
       " 'one',\n",
       " 'of',\n",
       " 'those',\n",
       " 'littl']"
      ]
     },
     "metadata": {},
     "output_type": "display_data"
    }
   ],
   "source": [
    "from nltk.stem import PorterStemmer\n",
    "# Write your code here below\n",
    "porter = PorterStemmer()\n",
    "stemmed_words = []\n",
    "\n",
    "for word in nltk_words:\n",
    "    stemmed_words.append(porter.stem(word))\n",
    "display(stemmed_words[:20])"
   ]
  },
  {
   "cell_type": "markdown",
   "metadata": {},
   "source": [
    "### Now lemmatize the Bambi text with the WordNet lemmatizer\n",
    "Save the lemmatized words in a list called __lemmed_words__  \n",
    "Print or display the first 50 lemmatized words\n",
    "\n",
    "Again, you will have to lemmatize each word separately\n",
    "\n",
    "*hint: you can use the pos_list you created earlier*"
   ]
  },
  {
   "cell_type": "code",
   "execution_count": 13,
   "metadata": {},
   "outputs": [],
   "source": [
    "# Execute this cell first to have access to this mapping function and the Lemmatizer\n",
    "from nltk.stem import WordNetLemmatizer\n",
    "def get_file_key(tag):\n",
    "    \"\"\" pos_tag is the tuple returned from \"\"\"\n",
    "    tag_map = {'NN':'n', 'VB':'v', 'RB':'r', 'JJ':'a'}\n",
    "    wordnet_tag = tag_map.get(tag,'n') # Noun is the default\n",
    "    return wordnet_tag"
   ]
  },
  {
   "cell_type": "code",
   "execution_count": 14,
   "metadata": {},
   "outputs": [
    {
     "name": "stdout",
     "output_type": "stream",
     "text": [
      "['It', 'wa', 'in', 'a', 'space', 'in', 'a', 'thicket', 'that', 'he', 'came', 'into', 'the', 'world', ',', 'in', 'one', 'of', 'those', 'little', ',', 'hidden', 'place', 'in', 'the', 'wood', 'which', 'seem', 'to', 'be', 'open', 'on', 'every', 'side', 'but', 'which', 'in', 'fact', 'are', 'completely', 'surrounded', 'by', 'foliage', '.', 'That', 'is', 'why', 'there', 'wa', 'so']\n"
     ]
    }
   ],
   "source": [
    "# Write your code here\n",
    "lemmer = WordNetLemmatizer()\n",
    "lemmed_words = []\n",
    "for word, tag in pos_list:\n",
    "    w_tag = get_file_key(tag)\n",
    "    l_word = lemmer.lemmatize(word,w_tag)\n",
    "    lemmed_words.append(l_word)\n",
    "    \n",
    "print(lemmed_words[:50])"
   ]
  },
  {
   "cell_type": "markdown",
   "metadata": {},
   "source": [
    "# 9.5a WordNet\n",
    "### Start by executing the following cell"
   ]
  },
  {
   "cell_type": "code",
   "execution_count": 15,
   "metadata": {},
   "outputs": [],
   "source": [
    "import nltk\n",
    "from nltk.corpus import wordnet as wn"
   ]
  },
  {
   "cell_type": "markdown",
   "metadata": {},
   "source": [
    "### Explore the synset of the word __kid__\n",
    "Find the first and last synsets associated with the word __kid__  \n",
    "- Can you see if they are nouns or verbs?\n",
    "- Print their ...\n",
    " * definitions,\n",
    " * examples, \n",
    " * hypernyms,\n",
    " * hyponyms, and\n",
    " * lemmas\n",
    "\n",
    "You don't have to do this programmatically in a single block of code, you can use several cells and semi-manually extract the information.\n",
    "\n",
    "*hint: For the programmatical way, w.synsets() returns a list of synsets"
   ]
  },
  {
   "cell_type": "code",
   "execution_count": 16,
   "metadata": {},
   "outputs": [
    {
     "name": "stdout",
     "output_type": "stream",
     "text": [
      "Exploring child.n.01\n",
      "Def: a young person of either sex\n",
      "Examples: ['she writes books for children', \"they're just kids\", \"`tiddler' is a British term for youngster\"]\n",
      "Hyernyms: [Synset('juvenile.n.01')]\n",
      "Hyponyms: [Synset('bairn.n.01'), Synset('buster.n.02'), Synset('changeling.n.02'), Synset('child_prodigy.n.01'), Synset('foster-child.n.01'), Synset('imp.n.02'), Synset('kiddy.n.01'), Synset('orphan.n.01'), Synset('peanut.n.03'), Synset('pickaninny.n.01'), Synset('poster_child.n.01'), Synset('preschooler.n.01'), Synset('silly.n.01'), Synset('sprog.n.02'), Synset('toddler.n.01'), Synset('urchin.n.01'), Synset('waif.n.01')]\n",
      "Lemmas: [Lemma('child.n.01.child'), Lemma('child.n.01.kid'), Lemma('child.n.01.youngster'), Lemma('child.n.01.minor'), Lemma('child.n.01.shaver'), Lemma('child.n.01.nipper'), Lemma('child.n.01.small_fry'), Lemma('child.n.01.tiddler'), Lemma('child.n.01.tike'), Lemma('child.n.01.tyke'), Lemma('child.n.01.fry'), Lemma('child.n.01.nestling')]\n",
      "\n",
      "\n",
      "Exploring kid.v.02\n",
      "Def: be silly or tease one another\n",
      "Examples: ['After we relaxed, we just kidded around']\n",
      "Hyernyms: [Synset('tease.v.02')]\n",
      "Hyponyms: []\n",
      "Lemmas: [Lemma('kid.v.02.kid'), Lemma('kid.v.02.chaff'), Lemma('kid.v.02.jolly'), Lemma('kid.v.02.josh'), Lemma('kid.v.02.banter')]\n",
      "\n",
      "\n"
     ]
    }
   ],
   "source": [
    "the_first = wn.synsets('kid')[0]\n",
    "the_last = wn.synsets('kid')[-1]\n",
    "for syns in [the_first,the_last]:\n",
    "    print(\"Exploring\", syns.name())\n",
    "    print(\"Def:\",syns.definition())\n",
    "    print(\"Examples:\",syns.examples())\n",
    "    print(\"Hyernyms:\",syns.hypernyms())\n",
    "    print(\"Hyponyms:\", syns.hyponyms())\n",
    "    print(\"Lemmas:\", syns.lemmas())\n",
    "    print('\\n')"
   ]
  },
  {
   "cell_type": "markdown",
   "metadata": {},
   "source": [
    "# 9.6 Sentiment analysis using VADER\n",
    "### Execute the following cell to have access to the necessary functions"
   ]
  },
  {
   "cell_type": "code",
   "execution_count": 17,
   "metadata": {},
   "outputs": [],
   "source": [
    "import matplotlib.pyplot as plt\n",
    "import nltk\n",
    "from nltk.sentiment.vader import SentimentIntensityAnalyzer"
   ]
  },
  {
   "cell_type": "markdown",
   "metadata": {},
   "source": [
    "### Display the polarity score for the first sentence in the Bambi text\n",
    "You can use the __nltk_sentences__ list you created earlier\n",
    "\n",
    "Display the sentences as well, to see if the scores make sense\n",
    "\n",
    "Polarity score are a set of numbers indicating how positive and/or negative a piece of text is."
   ]
  },
  {
   "cell_type": "code",
   "execution_count": 18,
   "metadata": {},
   "outputs": [
    {
     "name": "stdout",
     "output_type": "stream",
     "text": [
      "It was in a space in a thicket that he came into the world, in one of those little, hidden places in the wood which seem to be open on every side but which in fact are completely surrounded by foliage.\n",
      "{'neg': 0.0, 'neu': 1.0, 'pos': 0.0, 'compound': 0.0}\n",
      "That is why there was so little room there, but just enough for him and his mother.\n",
      "{'neg': 0.0, 'neu': 1.0, 'pos': 0.0, 'compound': 0.0}\n"
     ]
    }
   ],
   "source": [
    "analyser = SentimentIntensityAnalyzer()\n",
    "for sentence in nltk_sentences[:2]:\n",
    "    sentence = sentence.replace('\\n', ' ')\n",
    "    print(sentence)\n",
    "    print(analyser.polarity_scores(sentence))"
   ]
  },
  {
   "cell_type": "markdown",
   "metadata": {},
   "source": [
    "### Score the polarity of each sentence in the Bambi text\n",
    "Save the compound score of each sentence in a list called __comp_scores__ and display the first 10 compound scores"
   ]
  },
  {
   "cell_type": "code",
   "execution_count": 19,
   "metadata": {},
   "outputs": [
    {
     "data": {
      "text/plain": [
       "[0.0, 0.0, -0.8552, 0.636, -0.743, 0.0, 0.636, 0.5106, 0.0, 0.6239]"
      ]
     },
     "metadata": {},
     "output_type": "display_data"
    }
   ],
   "source": [
    "comp_scores = []\n",
    "for sentence in nltk_sentences:\n",
    "    score = analyser.polarity_scores(sentence)\n",
    "    comp_scores.append(score['compound'])\n",
    "display(comp_scores[:10])"
   ]
  },
  {
   "cell_type": "markdown",
   "metadata": {},
   "source": [
    "### Plot the compound polarity per sentence of the Bambi text\n",
    "Can you see any trend or do you need more data to discern anything?"
   ]
  },
  {
   "cell_type": "code",
   "execution_count": 20,
   "metadata": {},
   "outputs": [
    {
     "data": {
      "image/png": "[encoded data removed]",
      "text/plain": [
       "<Figure size 864x864 with 1 Axes>"
      ]
     },
     "metadata": {
      "needs_background": "light"
     },
     "output_type": "display_data"
    }
   ],
   "source": [
    "fig = plt.figure(figsize=(12,12))\n",
    "plt.plot(comp_scores)\n",
    "plt.show()"
   ]
  },
  {
   "cell_type": "markdown",
   "metadata": {},
   "source": [
    "### Find the most negative sentence and the most positive sentence\n",
    "Display/print them, their scores, and their location in the text (i.e. their index)\n",
    "\n",
    "Only take into account the compound score when comparing but display the negative, positive, and neutral as well\n",
    "\n",
    "Do the scores match your perception of the sentences and does their location match the graph you just plotted?\n",
    "\n",
    "\n",
    "*hint: this task only requires a couple of list routines, e.g. finding the index of a certain value and finding both extremes (min, max). And depending on how you accomplished the last 2 tasks you might need to score the sentences again*"
   ]
  },
  {
   "cell_type": "code",
   "execution_count": 21,
   "metadata": {},
   "outputs": [
    {
     "name": "stdout",
     "output_type": "stream",
     "text": [
      "The most positive sentence is:\n",
      "\t She washed it with her tongue and so performed several tasks\n",
      "at once, care for his body, a warming massage and a display of her\n",
      "affection.\n",
      "it appears at location: 28\n",
      "and the scores are:\n",
      "\t {'neg': 0.0, 'neu': 0.719, 'pos': 0.281, 'compound': 0.802}\n",
      "The most negative sentence is:\n",
      "\t He stood up, he staggered on his thin legs as he wondered what was\n",
      "happening, looked out with eyes which were dull, wondered what was\n",
      "happening but saw nothing, dropped his head, shuddered severely, and\n",
      "was quite numb.\n",
      "it appears at location: 2\n",
      "and the scores are:\n",
      "\t {'neg': 0.212, 'neu': 0.788, 'pos': 0.0, 'compound': -0.8552}\n"
     ]
    }
   ],
   "source": [
    "# First the most positive\n",
    "most_pos_score = max(comp_scores)\n",
    "ind_pos = comp_scores.index(most_pos_score)\n",
    "most_pos_sentence = nltk_sentences[ind_pos]\n",
    "full_pos_scores = analyser.polarity_scores(most_pos_sentence)\n",
    "print(\"The most positive sentence is:\\n\\t\",most_pos_sentence)\n",
    "print(\"it appears at location:\",ind_pos)\n",
    "print(\"and the scores are:\\n\\t\",full_pos_scores)\n",
    "\n",
    "# The the most negative\n",
    "most_neg_score = min(comp_scores)\n",
    "ind_neg = comp_scores.index(most_neg_score)\n",
    "most_neg_sentence = nltk_sentences[ind_neg]\n",
    "full_neg_scores = analyser.polarity_scores(most_neg_sentence)\n",
    "print(\"The most negative sentence is:\\n\\t\",most_neg_sentence)\n",
    "print(\"it appears at location:\",ind_neg)\n",
    "print(\"and the scores are:\\n\\t\",full_neg_scores)"
   ]
  }
 ],
 "metadata": {
  "kernelspec": {
   "display_name": "Python 3 (ipykernel)",
   "language": "python",
   "name": "python3"
  },
  "language_info": {
   "codemirror_mode": {
    "name": "ipython",
    "version": 3
   },
   "file_extension": ".py",
   "mimetype": "text/x-python",
   "name": "python",
   "nbconvert_exporter": "python",
   "pygments_lexer": "ipython3",
   "version": "3.11.5"
  }
 },
 "nbformat": 4,
 "nbformat_minor": 2
}
