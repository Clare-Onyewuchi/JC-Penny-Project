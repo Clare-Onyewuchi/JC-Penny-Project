{
 "cells": [
  {
   "cell_type": "markdown",
   "metadata": {
    "slideshow": {
     "slide_type": "skip"
    }
   },
   "source": [
    "# Session 7 Numpy and Pandas"
   ]
  },
  {
   "cell_type": "markdown",
   "metadata": {
    "slideshow": {
     "slide_type": "slide"
    }
   },
   "source": [
    "# Numpy"
   ]
  },
  {
   "cell_type": "markdown",
   "metadata": {
    "slideshow": {
     "slide_type": "skip"
    }
   },
   "source": [
    "## Import Pandas\n",
    "The first thing we need to do is import numpy so our code can use the module. It is common practice to give modules a shorter name when you import them and the usual choice for numpy is np, so here we go"
   ]
  },
  {
   "cell_type": "code",
   "execution_count": 4,
   "metadata": {
    "slideshow": {
     "slide_type": "slide"
    }
   },
   "outputs": [],
   "source": [
    "import numpy as np"
   ]
  },
  {
   "cell_type": "markdown",
   "metadata": {
    "slideshow": {
     "slide_type": "skip"
    }
   },
   "source": [
    "Now whenever we refer to np in our code, we are using numpy. Let's start by creating a simple array, much like the lists you are used to creating already."
   ]
  },
  {
   "cell_type": "code",
   "execution_count": 2,
   "metadata": {
    "slideshow": {
     "slide_type": "slide"
    }
   },
   "outputs": [
    {
     "name": "stdout",
     "output_type": "stream",
     "text": [
      "[1 2 3]\n"
     ]
    }
   ],
   "source": [
    "a = np.array([1, 2, 3])\n",
    "print(a)"
   ]
  },
  {
   "cell_type": "markdown",
   "metadata": {
    "slideshow": {
     "slide_type": "skip"
    }
   },
   "source": [
    "You can see we have used np to refer to numpy, so np.array means we want to create a new numpy array. We pass in the list of values that we want to store in the array as a simple Python list. In this example, it just contains the numbers 1,2 and 3.\n",
    "\n",
    "This is what is known as a 1 dimensional array as it only needs one index number to specify a location. Index numbers start at zero, so if we type"
   ]
  },
  {
   "cell_type": "code",
   "execution_count": 3,
   "metadata": {
    "slideshow": {
     "slide_type": "slide"
    }
   },
   "outputs": [
    {
     "name": "stdout",
     "output_type": "stream",
     "text": [
      "1\n"
     ]
    }
   ],
   "source": [
    "print(a[0])"
   ]
  },
  {
   "cell_type": "markdown",
   "metadata": {
    "slideshow": {
     "slide_type": "skip"
    }
   },
   "source": [
    "We are given the data from location 0 - that is the first location in the array. In this case, that is just the number 1. You can store other data types in Numpy arrays, for example here we store strings"
   ]
  },
  {
   "cell_type": "code",
   "execution_count": 4,
   "metadata": {
    "slideshow": {
     "slide_type": "slide"
    }
   },
   "outputs": [
    {
     "name": "stdout",
     "output_type": "stream",
     "text": [
      "['Cat' 'Dog' 'Mouse']\n"
     ]
    }
   ],
   "source": [
    "b = np.array(['Cat','Dog','Mouse'])\n",
    "print(b)"
   ]
  },
  {
   "cell_type": "markdown",
   "metadata": {
    "slideshow": {
     "slide_type": "skip"
    }
   },
   "source": [
    "There are better ways to define a numpy array than filling in its values by hand the way we have been doing here. For example, we can create a numpy array full of zeros using the function called zeros and specifying the length of the array - here we choose ten."
   ]
  },
  {
   "cell_type": "code",
   "execution_count": 7,
   "metadata": {
    "slideshow": {
     "slide_type": "slide"
    }
   },
   "outputs": [
    {
     "ename": "AttributeError",
     "evalue": "module 'numpy' has no attribute 'zero'",
     "output_type": "error",
     "traceback": [
      "\u001b[1;31m---------------------------------------------------------------------------\u001b[0m",
      "\u001b[1;31mAttributeError\u001b[0m                            Traceback (most recent call last)",
      "Cell \u001b[1;32mIn[7], line 1\u001b[0m\n\u001b[1;32m----> 1\u001b[0m z \u001b[38;5;241m=\u001b[39m np\u001b[38;5;241m.\u001b[39mzero(\u001b[38;5;241m10\u001b[39m)\n\u001b[0;32m      2\u001b[0m \u001b[38;5;28mprint\u001b[39m(z)\n",
      "File \u001b[1;32m~\\anaconda3\\Lib\\site-packages\\numpy\\__init__.py:320\u001b[0m, in \u001b[0;36m__getattr__\u001b[1;34m(attr)\u001b[0m\n\u001b[0;32m    317\u001b[0m     \u001b[38;5;28;01mfrom\u001b[39;00m \u001b[38;5;21;01m.\u001b[39;00m\u001b[38;5;21;01mtesting\u001b[39;00m \u001b[38;5;28;01mimport\u001b[39;00m Tester\n\u001b[0;32m    318\u001b[0m     \u001b[38;5;28;01mreturn\u001b[39;00m Tester\n\u001b[1;32m--> 320\u001b[0m \u001b[38;5;28;01mraise\u001b[39;00m \u001b[38;5;167;01mAttributeError\u001b[39;00m(\u001b[38;5;124m\"\u001b[39m\u001b[38;5;124mmodule \u001b[39m\u001b[38;5;132;01m{!r}\u001b[39;00m\u001b[38;5;124m has no attribute \u001b[39m\u001b[38;5;124m\"\u001b[39m\n\u001b[0;32m    321\u001b[0m                      \u001b[38;5;124m\"\u001b[39m\u001b[38;5;132;01m{!r}\u001b[39;00m\u001b[38;5;124m\"\u001b[39m\u001b[38;5;241m.\u001b[39mformat(\u001b[38;5;18m__name__\u001b[39m, attr))\n",
      "\u001b[1;31mAttributeError\u001b[0m: module 'numpy' has no attribute 'zero'"
     ]
    }
   ],
   "source": [
    "z = np.zero(10)\n",
    "print(z)"
   ]
  },
  {
   "cell_type": "markdown",
   "metadata": {
    "slideshow": {
     "slide_type": "skip"
    }
   },
   "source": [
    "There is a similar function called ones. I'll leave you to try it and see what that does! We can fill an array with random numbers in a similar way. Here we ask for 5 random numbers between 0 and 1"
   ]
  },
  {
   "cell_type": "code",
   "execution_count": 6,
   "metadata": {
    "slideshow": {
     "slide_type": "slide"
    }
   },
   "outputs": [
    {
     "name": "stdout",
     "output_type": "stream",
     "text": [
      "[0.90490848 0.41499714 0.24458703 0.45531355 0.92003566]\n"
     ]
    }
   ],
   "source": [
    "r = np.random.random(5)\n",
    "print(r)"
   ]
  },
  {
   "cell_type": "markdown",
   "metadata": {
    "slideshow": {
     "slide_type": "skip"
    }
   },
   "source": [
    "or we can specify random integers in a given range, here we ask for 11 integers between 5 and 9 inclusive."
   ]
  },
  {
   "cell_type": "code",
   "execution_count": 7,
   "metadata": {
    "slideshow": {
     "slide_type": "slide"
    }
   },
   "outputs": [
    {
     "name": "stdout",
     "output_type": "stream",
     "text": [
      "[8 8 5 6 8 8 7 5 6 5 9]\n"
     ]
    }
   ],
   "source": [
    "r = np.random.randint(5,10,11)\n",
    "print(r)"
   ]
  },
  {
   "cell_type": "markdown",
   "metadata": {
    "slideshow": {
     "slide_type": "skip"
    }
   },
   "source": [
    "Wait a minute, why is that between 5 and 9, when the arguements are 5 and 10? This is what is known as a half-open range. It means from 5 inclusive to 10 exclusive, and you will meet them quite often in Python. In fact, here is another one now. This is the code to create a numpy array filled with the integers from 5 to 14"
   ]
  },
  {
   "cell_type": "code",
   "execution_count": 8,
   "metadata": {
    "slideshow": {
     "slide_type": "slide"
    }
   },
   "outputs": [
    {
     "name": "stdout",
     "output_type": "stream",
     "text": [
      "[ 5  6  7  8  9 10 11 12 13 14]\n"
     ]
    }
   ],
   "source": [
    "g = np.arange(5,15)\n",
    "print(g)"
   ]
  },
  {
   "cell_type": "markdown",
   "metadata": {
    "slideshow": {
     "slide_type": "skip"
    }
   },
   "source": [
    "Do you see the half-open range? We specified a range with the arguements five comma fifteen and got numbers from 5 to 14. There are some very good reasons for this choice, which initially seems strange. For example, if we want to split a range into subranges, we avoid the so-called fence post problem where the end of each subrange is equal to the start of the next. It also makes the lengths of the ranges more intuitive, equalling the end value minus the start.\n",
    "\n",
    "There is another example of a half-open range coming soon, so watch out for it."
   ]
  },
  {
   "cell_type": "markdown",
   "metadata": {
    "slideshow": {
     "slide_type": "slide"
    }
   },
   "source": [
    "# 1D, 2D and 3D arrays"
   ]
  },
  {
   "cell_type": "markdown",
   "metadata": {
    "slideshow": {
     "slide_type": "skip"
    }
   },
   "source": [
    "Numpy is not limited to one dimensional arrays. You can define higher dimensional structures too. Here is a two dimensional numpy array. See how it is defined as an array of arrays."
   ]
  },
  {
   "cell_type": "code",
   "execution_count": 9,
   "metadata": {
    "slideshow": {
     "slide_type": "slide"
    }
   },
   "outputs": [
    {
     "name": "stdout",
     "output_type": "stream",
     "text": [
      "[[1 2 3]\n",
      " [4 5 6]\n",
      " [7 8 9]]\n"
     ]
    }
   ],
   "source": [
    "c = np.array([[1, 2, 3], [4, 5, 6], [7, 8, 9]])\n",
    "print(c)"
   ]
  },
  {
   "cell_type": "markdown",
   "metadata": {
    "slideshow": {
     "slide_type": "skip"
    }
   },
   "source": [
    "The functions we used for creating one dimensional arrays all work for other shapes too. Here we create an array full of ones with 3 rows of 4 columns:"
   ]
  },
  {
   "cell_type": "code",
   "execution_count": 10,
   "metadata": {
    "slideshow": {
     "slide_type": "slide"
    }
   },
   "outputs": [
    {
     "name": "stdout",
     "output_type": "stream",
     "text": [
      "[[1. 1. 1. 1.]\n",
      " [1. 1. 1. 1.]\n",
      " [1. 1. 1. 1.]]\n"
     ]
    }
   ],
   "source": [
    "n = np.ones((3,4))\n",
    "print(n)"
   ]
  },
  {
   "cell_type": "markdown",
   "metadata": {
    "slideshow": {
     "slide_type": "skip"
    }
   },
   "source": [
    "Note that the shape argument is a tuple - so it is enclosed in round brackets."
   ]
  },
  {
   "cell_type": "markdown",
   "metadata": {
    "slideshow": {
     "slide_type": "skip"
    }
   },
   "source": [
    "I could write all the numbers to create a three dimensional array too, but that would be tedious. A better way is to tell numpy the shape of the array you want. Here we create an array that is 4 by 4 by 4, so it need 4 times 4 times 4 entries - that is 64. We use the arange function we have already seen, with a new function called reshape"
   ]
  },
  {
   "cell_type": "code",
   "execution_count": 11,
   "metadata": {
    "slideshow": {
     "slide_type": "slide"
    }
   },
   "outputs": [
    {
     "name": "stdout",
     "output_type": "stream",
     "text": [
      "[[[ 0  1  2  3]\n",
      "  [ 4  5  6  7]\n",
      "  [ 8  9 10 11]\n",
      "  [12 13 14 15]]\n",
      "\n",
      " [[16 17 18 19]\n",
      "  [20 21 22 23]\n",
      "  [24 25 26 27]\n",
      "  [28 29 30 31]]\n",
      "\n",
      " [[32 33 34 35]\n",
      "  [36 37 38 39]\n",
      "  [40 41 42 43]\n",
      "  [44 45 46 47]]\n",
      "\n",
      " [[48 49 50 51]\n",
      "  [52 53 54 55]\n",
      "  [56 57 58 59]\n",
      "  [60 61 62 63]]]\n"
     ]
    }
   ],
   "source": [
    "t = np.arange(64).reshape(4,4,4)\n",
    "print(t)"
   ]
  },
  {
   "cell_type": "markdown",
   "metadata": {
    "slideshow": {
     "slide_type": "skip"
    }
   },
   "source": [
    "There we have an array of arrays of arrays, or, if you prefer, an array of 2 dimensional arrays! You can go higher still, a three dimensional array is an array of arrays of arrays, and so on but let's stop there."
   ]
  },
  {
   "cell_type": "markdown",
   "metadata": {
    "slideshow": {
     "slide_type": "skip"
    }
   },
   "source": [
    "## Array access and slicing\n",
    "Now we can build Numpy arrays, we need to access what is stored in them. This is done using coordinates to specify the location of the data we want to access. The coordinates start at zero. The coordinates are enclosed in square brackets and where there is more than one dimension, they are separated by commas. The order of the coordinates is the same as the order of the embedding of the arrays. So a two dimensional array is an array of arrays and the first coordinate specifies which array to look in and the second coordinate specifies how far along that array to go. Here are some examples, which will help!\n",
    "\n",
    "First, we create a one dimensional array and access the value at location zero - the first value"
   ]
  },
  {
   "cell_type": "markdown",
   "metadata": {
    "slideshow": {
     "slide_type": "slide"
    }
   },
   "source": [
    "# Array Access and Slicing"
   ]
  },
  {
   "cell_type": "code",
   "execution_count": 12,
   "metadata": {
    "slideshow": {
     "slide_type": "slide"
    }
   },
   "outputs": [
    {
     "name": "stdout",
     "output_type": "stream",
     "text": [
      "14\n"
     ]
    }
   ],
   "source": [
    "d = np.array([2,4,6,8,10,12,14,16,18,20])\n",
    "print(d[6])"
   ]
  },
  {
   "cell_type": "markdown",
   "metadata": {
    "slideshow": {
     "slide_type": "skip"
    }
   },
   "source": [
    "\n",
    "See the use of square brackets to indicate the location of the data we want to access. I can change that value to anything less than the length of the array. If you are following along with the code, you could pause the video here and try that. Note that the valid index locations are in the half-open range 0 to the length of the array.\n",
    "\n",
    "Now you have the idea, we can create a two dimensional array and access a row, a single entry and a column. Here is the array we will use"
   ]
  },
  {
   "cell_type": "code",
   "execution_count": 13,
   "metadata": {
    "slideshow": {
     "slide_type": "slide"
    }
   },
   "outputs": [
    {
     "name": "stdout",
     "output_type": "stream",
     "text": [
      "Array\n",
      " [[1 2 3]\n",
      " [4 5 6]\n",
      " [7 8 9]]\n"
     ]
    }
   ],
   "source": [
    "c = np.array([[1, 2, 3], [4, 5, 6], [7, 8, 9]])\n",
    "print(\"Array\\n\", c)"
   ]
  },
  {
   "cell_type": "markdown",
   "metadata": {
    "slideshow": {
     "slide_type": "skip"
    }
   },
   "source": [
    "Here is how we access row number 1, which, of course, is the second row.\n",
    "\n",
    "The two dimensional numpy array is an array of rows, so we just say:"
   ]
  },
  {
   "cell_type": "code",
   "execution_count": 14,
   "metadata": {
    "slideshow": {
     "slide_type": "fragment"
    }
   },
   "outputs": [
    {
     "name": "stdout",
     "output_type": "stream",
     "text": [
      "Row 1 [4 5 6]\n"
     ]
    }
   ],
   "source": [
    "print(\"Row 1\", c[1])"
   ]
  },
  {
   "cell_type": "markdown",
   "metadata": {
    "slideshow": {
     "slide_type": "skip"
    }
   },
   "source": [
    "row number one. There is it. To access a single entry, we need two coordinates inside the square brackets. Let's access the value at coordinate 1, 2"
   ]
  },
  {
   "cell_type": "code",
   "execution_count": 15,
   "metadata": {
    "slideshow": {
     "slide_type": "fragment"
    }
   },
   "outputs": [
    {
     "name": "stdout",
     "output_type": "stream",
     "text": [
      "Row 1, Column 2 intersect 6\n"
     ]
    }
   ],
   "source": [
    "print(\"Row 1, Column 2 intersect\", c[1, 2])"
   ]
  },
  {
   "cell_type": "markdown",
   "metadata": {
    "slideshow": {
     "slide_type": "skip"
    }
   },
   "source": [
    "See how the coordinates are given in row, column order and separated by a comma.\n",
    "\n",
    "Now we can access a single column using a similar approach. Here is the code"
   ]
  },
  {
   "cell_type": "code",
   "execution_count": 16,
   "metadata": {
    "slideshow": {
     "slide_type": "fragment"
    }
   },
   "outputs": [
    {
     "name": "stdout",
     "output_type": "stream",
     "text": [
      "Column 1 [2 5 8]\n"
     ]
    }
   ],
   "source": [
    "print(\"Column 1\", c[0:3,1])"
   ]
  },
  {
   "cell_type": "markdown",
   "metadata": {
    "slideshow": {
     "slide_type": "skip"
    }
   },
   "source": [
    "To extract column number 1, we used what is known as a slice operator. The slice operator (that's the colon symbol) specifies a range of entries to access in the array. It extracts all the entries in locations from the number before the colon up to one before the number after the colon. In other words, the slice range is inclusive of the first index and exclusive of the second. It is another example of a half-open range!\n",
    "\n",
    "So in the example above, we accessed rows 0, 1, and 2 using the slice 0:3. Lets look at the slice operator in a bit more detail with the 1 dimensional array we created earlier. Here it is"
   ]
  },
  {
   "cell_type": "code",
   "execution_count": 17,
   "metadata": {
    "slideshow": {
     "slide_type": "slide"
    }
   },
   "outputs": [
    {
     "name": "stdout",
     "output_type": "stream",
     "text": [
      "[ 2  4  6  8 10 12 14 16 18 20]\n"
     ]
    }
   ],
   "source": [
    "print(d)"
   ]
  },
  {
   "cell_type": "markdown",
   "metadata": {
    "slideshow": {
     "slide_type": "skip"
    }
   },
   "source": [
    "We access the entries from location 1 to location 5 like this"
   ]
  },
  {
   "cell_type": "code",
   "execution_count": 18,
   "metadata": {
    "slideshow": {
     "slide_type": "slide"
    }
   },
   "outputs": [
    {
     "name": "stdout",
     "output_type": "stream",
     "text": [
      "[ 4  6  8 10 12]\n"
     ]
    }
   ],
   "source": [
    "print(d[1:6])"
   ]
  },
  {
   "cell_type": "markdown",
   "metadata": {
    "slideshow": {
     "slide_type": "skip"
    }
   },
   "source": [
    "see how we get 5 entries, as expected. Now, the slice operator allows you to be a bit lazy. It might be that you don't know how long the array is, but you want all the entries up to the end. In that case, you just miss out the value after the colon:"
   ]
  },
  {
   "cell_type": "code",
   "execution_count": 19,
   "metadata": {
    "slideshow": {
     "slide_type": "slide"
    }
   },
   "outputs": [
    {
     "name": "stdout",
     "output_type": "stream",
     "text": [
      "[10 12 14 16 18 20]\n"
     ]
    }
   ],
   "source": [
    "print(d[4:])"
   ]
  },
  {
   "cell_type": "markdown",
   "metadata": {
    "slideshow": {
     "slide_type": "skip"
    }
   },
   "source": [
    "You can miss out the number before the colon too, meaning start at the first entry"
   ]
  },
  {
   "cell_type": "code",
   "execution_count": 20,
   "metadata": {
    "slideshow": {
     "slide_type": "slide"
    }
   },
   "outputs": [
    {
     "name": "stdout",
     "output_type": "stream",
     "text": [
      "[ 2  4  6  8 10 12 14 16 18 20]\n"
     ]
    }
   ],
   "source": [
    "print(d[:])"
   ]
  },
  {
   "cell_type": "markdown",
   "metadata": {
    "slideshow": {
     "slide_type": "skip"
    }
   },
   "source": [
    "So here we specify the whole array from start to finish. Now, we can simplify our code to extract a column from the two dimensional array we saw earlier like this, which means the range of rows from start to finish, and column number 1."
   ]
  },
  {
   "cell_type": "code",
   "execution_count": 21,
   "metadata": {
    "slideshow": {
     "slide_type": "slide"
    }
   },
   "outputs": [
    {
     "name": "stdout",
     "output_type": "stream",
     "text": [
      "Column 1 [2 5 8]\n"
     ]
    }
   ],
   "source": [
    "print(\"Column 1\", c[:,1])"
   ]
  },
  {
   "cell_type": "markdown",
   "metadata": {
    "slideshow": {
     "slide_type": "skip"
    }
   },
   "source": [
    "Slicing also allows you to provide a third number, which specifies a step size. Here we take the values from the start to location 5 in steps of 2"
   ]
  },
  {
   "cell_type": "code",
   "execution_count": 22,
   "metadata": {
    "slideshow": {
     "slide_type": "slide"
    }
   },
   "outputs": [
    {
     "name": "stdout",
     "output_type": "stream",
     "text": [
      "[ 2  6 10]\n"
     ]
    }
   ],
   "source": [
    "print(d[0:6:2])"
   ]
  },
  {
   "cell_type": "markdown",
   "metadata": {
    "slideshow": {
     "slide_type": "skip"
    }
   },
   "source": [
    "One more trick you can use slicing to perform involves negative index numbers. Here are two examples. In the first, we use a negative number to specify the end point, which means counting down from the end rather than up from the start, and in the second example, we use a step size of minus one to specify that the list should be accessed in reverse order."
   ]
  },
  {
   "cell_type": "code",
   "execution_count": 23,
   "metadata": {
    "scrolled": true,
    "slideshow": {
     "slide_type": "slide"
    }
   },
   "outputs": [
    {
     "name": "stdout",
     "output_type": "stream",
     "text": [
      "From location 1 to 3 before the end: [ 4  6  8 10 12 14]\n"
     ]
    }
   ],
   "source": [
    "print(\"From location 1 to 3 before the end:\", d[1:-3])"
   ]
  },
  {
   "cell_type": "code",
   "execution_count": 24,
   "metadata": {
    "slideshow": {
     "slide_type": "fragment"
    }
   },
   "outputs": [
    {
     "name": "stdout",
     "output_type": "stream",
     "text": [
      "Start at 5, end at 3, going backwards: [12 10  8]\n"
     ]
    }
   ],
   "source": [
    "print(\"Start at 5, end at 3, going backwards:\", d[5:2:-1])"
   ]
  },
  {
   "cell_type": "markdown",
   "metadata": {
    "slideshow": {
     "slide_type": "skip"
    }
   },
   "source": [
    "There is an exercise that allows you to try out slicing one and two dimensional arrays later in the session."
   ]
  },
  {
   "cell_type": "markdown",
   "metadata": {
    "slideshow": {
     "slide_type": "slide"
    }
   },
   "source": [
    "# Array Masks and Conditional Access\n"
   ]
  },
  {
   "cell_type": "markdown",
   "metadata": {
    "slideshow": {
     "slide_type": "skip"
    }
   },
   "source": [
    "Rather than accessing the entries in an array by their location, you might want to access them according to some condition, such as finding all the entries that equal zero, or that are above a certain threshold. You do this in Numpy by replacing the indes inside the square brackets with a condition. Let's define an array that is 10 by 10 in shape and contains the numbers from 0 to 99. Here it is."
   ]
  },
  {
   "cell_type": "code",
   "execution_count": 25,
   "metadata": {
    "slideshow": {
     "slide_type": "slide"
    }
   },
   "outputs": [
    {
     "name": "stdout",
     "output_type": "stream",
     "text": [
      "[[ 0  1  2  3  4  5  6  7  8  9]\n",
      " [10 11 12 13 14 15 16 17 18 19]\n",
      " [20 21 22 23 24 25 26 27 28 29]\n",
      " [30 31 32 33 34 35 36 37 38 39]\n",
      " [40 41 42 43 44 45 46 47 48 49]\n",
      " [50 51 52 53 54 55 56 57 58 59]\n",
      " [60 61 62 63 64 65 66 67 68 69]\n",
      " [70 71 72 73 74 75 76 77 78 79]\n",
      " [80 81 82 83 84 85 86 87 88 89]\n",
      " [90 91 92 93 94 95 96 97 98 99]]\n"
     ]
    }
   ],
   "source": [
    "t = np.arange(100).reshape(10,10)\n",
    "print(t)"
   ]
  },
  {
   "cell_type": "markdown",
   "metadata": {
    "slideshow": {
     "slide_type": "skip"
    }
   },
   "source": [
    "Now lets extract all the numbers greater than 50"
   ]
  },
  {
   "cell_type": "code",
   "execution_count": 26,
   "metadata": {
    "slideshow": {
     "slide_type": "slide"
    }
   },
   "outputs": [
    {
     "name": "stdout",
     "output_type": "stream",
     "text": [
      "[51 52 53 54 55 56 57 58 59 60 61 62 63 64 65 66 67 68 69 70 71 72 73 74\n",
      " 75 76 77 78 79 80 81 82 83 84 85 86 87 88 89 90 91 92 93 94 95 96 97 98\n",
      " 99]\n"
     ]
    }
   ],
   "source": [
    "print(t[t>50])"
   ]
  },
  {
   "cell_type": "markdown",
   "metadata": {
    "slideshow": {
     "slide_type": "skip"
    }
   },
   "source": [
    "Or just the even numbers"
   ]
  },
  {
   "cell_type": "code",
   "execution_count": 27,
   "metadata": {
    "slideshow": {
     "slide_type": "slide"
    }
   },
   "outputs": [
    {
     "name": "stdout",
     "output_type": "stream",
     "text": [
      "[ 0  2  4  6  8 10 12 14 16 18 20 22 24 26 28 30 32 34 36 38 40 42 44 46\n",
      " 48 50 52 54 56 58 60 62 64 66 68 70 72 74 76 78 80 82 84 86 88 90 92 94\n",
      " 96 98]\n"
     ]
    }
   ],
   "source": [
    "print(t[t%2==0])"
   ]
  },
  {
   "cell_type": "markdown",
   "metadata": {
    "slideshow": {
     "slide_type": "skip"
    }
   },
   "source": [
    "There we used the modulo operator - the percentage sign, which returns the remainder of dividing one number by the other. In this case, dividing each entry in the array in turn by 2. When the remainder of dividing a by b is zero, then a divides equally by b. In this case, when t modulo 2 is zero, t divides equally by 2, so t is even."
   ]
  },
  {
   "cell_type": "markdown",
   "metadata": {
    "slideshow": {
     "slide_type": "skip"
    }
   },
   "source": [
    "We can select from one array using a condition on a second array. Lets create another 10 by 10 array, but this time full of random numbers"
   ]
  },
  {
   "cell_type": "code",
   "execution_count": 28,
   "metadata": {
    "scrolled": false,
    "slideshow": {
     "slide_type": "slide"
    }
   },
   "outputs": [
    {
     "name": "stdout",
     "output_type": "stream",
     "text": [
      "[[0.03446402 0.51110586 0.4478425  0.01597114 0.35989527 0.35893356\n",
      "  0.04511022 0.05574098 0.59880663 0.13323303]\n",
      " [0.94280409 0.67196739 0.0905761  0.70358937 0.54250932 0.7993758\n",
      "  0.06272162 0.32823635 0.75867211 0.81229135]\n",
      " [0.41398316 0.37082324 0.55691857 0.72464497 0.93489047 0.2826154\n",
      "  0.04271495 0.87982984 0.44216069 0.0441418 ]\n",
      " [0.17519852 0.89800862 0.3830694  0.42158783 0.80594079 0.26932608\n",
      "  0.56189389 0.13422997 0.26195918 0.91128215]\n",
      " [0.31539989 0.72848717 0.27622212 0.09967357 0.95508717 0.39023699\n",
      "  0.13075094 0.66088444 0.84829451 0.08593239]\n",
      " [0.41095256 0.76355419 0.15352027 0.937865   0.54725161 0.48042919\n",
      "  0.78448708 0.27613812 0.1991696  0.75223335]\n",
      " [0.97661624 0.18842126 0.43050852 0.47932095 0.37750982 0.7888569\n",
      "  0.05334975 0.25245812 0.72559008 0.7283387 ]\n",
      " [0.4443763  0.57512254 0.92356848 0.8432392  0.87835768 0.14946872\n",
      "  0.22404156 0.70509622 0.05221026 0.27334214]\n",
      " [0.03520408 0.58337788 0.33010869 0.36581669 0.45302365 0.30305066\n",
      "  0.95025293 0.16866463 0.68488879 0.31412673]\n",
      " [0.88212472 0.33431134 0.4897039  0.48494983 0.76495906 0.31525078\n",
      "  0.01530793 0.99703079 0.73392373 0.03871131]]\n"
     ]
    }
   ],
   "source": [
    "r = np.random.random((10,10))\n",
    "print(r)"
   ]
  },
  {
   "cell_type": "markdown",
   "metadata": {
    "slideshow": {
     "slide_type": "skip"
    }
   },
   "source": [
    "Now we can use that array, which we called r in the conditional index to extract data from our first array, t. Let's extract all the values in t that are in locations which contain a value greater than zero point five in r."
   ]
  },
  {
   "cell_type": "code",
   "execution_count": 29,
   "metadata": {
    "slideshow": {
     "slide_type": "slide"
    }
   },
   "outputs": [
    {
     "name": "stdout",
     "output_type": "stream",
     "text": [
      "[ 1  8 10 11 13 14 15 18 19 22 23 24 27 31 34 36 39 41 44 47 48 51 53 54\n",
      " 56 59 60 65 68 69 71 72 73 74 77 81 86 88 90 94 97 98]\n"
     ]
    }
   ],
   "source": [
    "print(t[r>0.5])"
   ]
  },
  {
   "cell_type": "markdown",
   "metadata": {
    "slideshow": {
     "slide_type": "slide"
    }
   },
   "source": [
    "# Loading, Saving and Aggregation"
   ]
  },
  {
   "cell_type": "markdown",
   "metadata": {
    "slideshow": {
     "slide_type": "skip"
    }
   },
   "source": [
    "## Loading, saving and aggregation\n",
    "So far, we have looked at building Numpy arrays with ranges or random numbers, but in reality, you are more likely to be reading data from a file into your arrays. This demonstration shows you how to load data into a numpy array from a file and then save it to a new file. We will then move on to look at a few aggregation operators that Numpy has to offer so that we can load and analyse a file of data. The data we will use is taken from a fitness app that measures daytime activity and sleep quality. It is in a file called sleep.csv, which you can download if you want."
   ]
  },
  {
   "cell_type": "markdown",
   "metadata": {
    "slideshow": {
     "slide_type": "skip"
    }
   },
   "source": [
    "## sleep.csv\n",
    "I've got the file here [sleep.csv](data/sleep.csv) If I open it, you can see the top row headings are  \n",
    "Exercise Minutes,\tCoffees,\tAv HR,\tEat after 9pm,\tSteps,\tAge,\tHours awake,\tDay,\tSleep Rating"
   ]
  },
  {
   "attachments": {
    "sleepxl.png": {
     "image/png": "[encoded data removed]"
    }
   },
   "cell_type": "markdown",
   "metadata": {
    "slideshow": {
     "slide_type": "slide"
    }
   },
   "source": [
    "![sleepxl.png](attachment:sleepxl.png)"
   ]
  },
  {
   "cell_type": "markdown",
   "metadata": {
    "slideshow": {
     "slide_type": "skip"
    }
   },
   "source": [
    "I don't want to read the first row into my numpy array, I only want the numbers, so I need to tell numpy to skip the first row. I also need to specify that the file is comma separated. Here is the code for doing that and reading the contents of the file into a numpy array. The function to load the data is called load t-x-t."
   ]
  },
  {
   "cell_type": "code",
   "execution_count": 30,
   "metadata": {
    "slideshow": {
     "slide_type": "slide"
    }
   },
   "outputs": [
    {
     "name": "stdout",
     "output_type": "stream",
     "text": [
      "[[34.  3. 63. ... 19.  2.  2.]\n",
      " [ 5.  2. 68. ... 17.  1.  1.]\n",
      " [65.  2. 60. ... 11.  2.  3.]\n",
      " ...\n",
      " [ 7.  0. 46. ... 13.  1.  2.]\n",
      " [52.  2. 53. ... 15.  6.  3.]\n",
      " [45.  2. 63. ... 15.  7.  2.]]\n"
     ]
    }
   ],
   "source": [
    "sleep = np.loadtxt(\"data/sleep.csv\", skiprows = 1 ,delimiter = \",\")\n",
    "print(sleep)"
   ]
  },
  {
   "cell_type": "markdown",
   "metadata": {
    "slideshow": {
     "slide_type": "skip"
    }
   },
   "source": [
    "Now I can ask numpy some questions about the data. Lets find out how many rows and columns there are"
   ]
  },
  {
   "cell_type": "code",
   "execution_count": 31,
   "metadata": {
    "slideshow": {
     "slide_type": "slide"
    }
   },
   "outputs": [
    {
     "name": "stdout",
     "output_type": "stream",
     "text": [
      "(1467, 9)\n"
     ]
    }
   ],
   "source": [
    "print(sleep.shape)"
   ]
  },
  {
   "cell_type": "markdown",
   "metadata": {
    "slideshow": {
     "slide_type": "skip"
    }
   },
   "source": [
    "Sleep.shape tells me the shape of the numpy array. We can see there are 1467 rows and 9 columns. The first column contains the number of minutes of exercise taken each day. Let's calculate the average for that column."
   ]
  },
  {
   "cell_type": "code",
   "execution_count": 32,
   "metadata": {
    "slideshow": {
     "slide_type": "slide"
    }
   },
   "outputs": [
    {
     "name": "stdout",
     "output_type": "stream",
     "text": [
      "Average exercise minutes: 41.80299931833674\n"
     ]
    }
   ],
   "source": [
    "print(\"Average exercise minutes:\", np.average(sleep[:,0]))"
   ]
  },
  {
   "cell_type": "markdown",
   "metadata": {
    "slideshow": {
     "slide_type": "skip"
    }
   },
   "source": [
    "See how we used the slice operator to select the first column. Now, the last column contains the sleep rating, where the higher the number, the better the sleep quality, and column number one contains a count of coffees consumed during the day. Lets find the range over which those two variables can go."
   ]
  },
  {
   "cell_type": "code",
   "execution_count": 33,
   "metadata": {
    "slideshow": {
     "slide_type": "slide"
    }
   },
   "outputs": [
    {
     "name": "stdout",
     "output_type": "stream",
     "text": [
      "Max sleep rating: 4.0\n"
     ]
    }
   ],
   "source": [
    "print(\"Max sleep rating:\", np.max(sleep[:,8]))"
   ]
  },
  {
   "cell_type": "code",
   "execution_count": 34,
   "metadata": {
    "slideshow": {
     "slide_type": "fragment"
    }
   },
   "outputs": [
    {
     "name": "stdout",
     "output_type": "stream",
     "text": [
      "Min sleep rating: 1.0\n"
     ]
    }
   ],
   "source": [
    "print(\"Min sleep rating:\", np.min(sleep[:,8]))"
   ]
  },
  {
   "cell_type": "code",
   "execution_count": 35,
   "metadata": {
    "slideshow": {
     "slide_type": "fragment"
    }
   },
   "outputs": [
    {
     "name": "stdout",
     "output_type": "stream",
     "text": [
      "Max Coffees: 3.0\n"
     ]
    }
   ],
   "source": [
    "print(\"Max Coffees:\", np.max(sleep[:,1]))"
   ]
  },
  {
   "cell_type": "code",
   "execution_count": 36,
   "metadata": {
    "slideshow": {
     "slide_type": "fragment"
    }
   },
   "outputs": [
    {
     "name": "stdout",
     "output_type": "stream",
     "text": [
      "Min Coffees: 0.0\n"
     ]
    }
   ],
   "source": [
    "print(\"Min Coffees:\", np.min(sleep[:,1]))"
   ]
  },
  {
   "cell_type": "markdown",
   "metadata": {
    "slideshow": {
     "slide_type": "skip"
    }
   },
   "source": [
    "So it seems the sleep rating goes from 1 to 4 - 4 being the best - and that the most coffees drunk in a day is 3. Very sensible. Now let's find out if the average sleep rating for all the times when 3 coffees were drunk is higher than that when no coffee was drunk. To do that, we need a conditional selection and an average calculation. Here they are."
   ]
  },
  {
   "cell_type": "code",
   "execution_count": 37,
   "metadata": {
    "slideshow": {
     "slide_type": "slide"
    }
   },
   "outputs": [
    {
     "name": "stdout",
     "output_type": "stream",
     "text": [
      "Average sleep score when no coffee drunk 2.713467048710602\n"
     ]
    }
   ],
   "source": [
    "no_coffee = sleep[sleep[:,1]==0]\n",
    "print(\"Average sleep score when no coffee drunk\", np.average(no_coffee[:,8]))"
   ]
  },
  {
   "cell_type": "code",
   "execution_count": 38,
   "metadata": {
    "slideshow": {
     "slide_type": "fragment"
    }
   },
   "outputs": [
    {
     "name": "stdout",
     "output_type": "stream",
     "text": [
      "Average sleep score when three coffees drunk 2.2808398950131235\n"
     ]
    }
   ],
   "source": [
    "lots_coffee = sleep[sleep[:,1]==3]\n",
    "print(\"Average sleep score when three coffees drunk\", np.average(lots_coffee[:,8]))"
   ]
  },
  {
   "cell_type": "markdown",
   "metadata": {
    "slideshow": {
     "slide_type": "skip"
    }
   },
   "source": [
    "So we selected the rows from the array where column one contained a zero, and then used those rows to calculate the average of column eight. We then did the same for rows where column one contains three. That is a nice combination of slicing, conditional selection and aggregation."
   ]
  },
  {
   "cell_type": "markdown",
   "metadata": {
    "slideshow": {
     "slide_type": "skip"
    }
   },
   "source": [
    "Finally, lets save the file with a different name, say sleep2.csv. Here is the code for that. Notice that I want the headings written to the first line of the file, so I have to specify them in the header arguement. I also specify a format for saving the data, in this case I want them all written as integers."
   ]
  },
  {
   "cell_type": "code",
   "execution_count": 39,
   "metadata": {
    "slideshow": {
     "slide_type": "slide"
    }
   },
   "outputs": [],
   "source": [
    "np.savetxt(\"data/sleep2.csv\", sleep, delimiter = \",\",\n",
    "           header = \"Exercise Minutes,Coffees,Av HR,Eat after 9pm,Steps,Age,Hours awake,Day,Sleep Rating\",\n",
    "          fmt = \"%d\")"
   ]
  },
  {
   "cell_type": "markdown",
   "metadata": {
    "slideshow": {
     "slide_type": "skip"
    }
   },
   "source": [
    "## Updating and broadcasting\n",
    "\n",
    "All the ways we have seen to access data in numpy arrays can also be used to operate on the data in those arrays. You update the contents of an array by referring to the location you want to change. So a simple update of a single location looks like this"
   ]
  },
  {
   "cell_type": "markdown",
   "metadata": {
    "slideshow": {
     "slide_type": "slide"
    }
   },
   "source": [
    "# Updating and Broadcasting\n"
   ]
  },
  {
   "cell_type": "code",
   "execution_count": 40,
   "metadata": {
    "scrolled": true,
    "slideshow": {
     "slide_type": "slide"
    }
   },
   "outputs": [
    {
     "name": "stdout",
     "output_type": "stream",
     "text": [
      "[[ 0  1  2  3  4]\n",
      " [ 5  6  7  8  9]\n",
      " [10 11 12 13 14]\n",
      " [15 16 17 18 19]\n",
      " [20 21 22 23 24]] \n",
      "\n",
      "[[100   1   2   3   4]\n",
      " [  5   6   7   8   9]\n",
      " [ 10  11  12  13  14]\n",
      " [ 15  16  17  18  19]\n",
      " [ 20  21  22  23  24]]\n"
     ]
    }
   ],
   "source": [
    "t = np.arange(25).reshape(5,5)\n",
    "print(t,\"\\n\")\n",
    "t[0,0]=100\n",
    "print(t)"
   ]
  },
  {
   "cell_type": "markdown",
   "metadata": {
    "slideshow": {
     "slide_type": "skip"
    }
   },
   "source": [
    "See how the first element is now equal to 100. We can update every element in the array, or in a selection from the array quite easily. Here we double every element in the array"
   ]
  },
  {
   "cell_type": "code",
   "execution_count": 41,
   "metadata": {
    "slideshow": {
     "slide_type": "slide"
    }
   },
   "outputs": [
    {
     "name": "stdout",
     "output_type": "stream",
     "text": [
      "[[200   2   4   6   8]\n",
      " [ 10  12  14  16  18]\n",
      " [ 20  22  24  26  28]\n",
      " [ 30  32  34  36  38]\n",
      " [ 40  42  44  46  48]]\n"
     ]
    }
   ],
   "source": [
    "t = t*2\n",
    "print(t)"
   ]
  },
  {
   "cell_type": "markdown",
   "metadata": {
    "slideshow": {
     "slide_type": "skip"
    }
   },
   "source": [
    "Now we halve only those in the first row"
   ]
  },
  {
   "cell_type": "code",
   "execution_count": 42,
   "metadata": {
    "slideshow": {
     "slide_type": "slide"
    }
   },
   "outputs": [
    {
     "name": "stdout",
     "output_type": "stream",
     "text": [
      "[[100   1   2   3   4]\n",
      " [ 10  12  14  16  18]\n",
      " [ 20  22  24  26  28]\n",
      " [ 30  32  34  36  38]\n",
      " [ 40  42  44  46  48]]\n"
     ]
    }
   ],
   "source": [
    "t[0] = t[0]/2\n",
    "print(t)"
   ]
  },
  {
   "cell_type": "markdown",
   "metadata": {
    "slideshow": {
     "slide_type": "skip"
    }
   },
   "source": [
    "Now, how did Python know to apply the division by two to every element in the array called t? This is an example of something known as broadcasting. This is when two numpy arrays of different sizes are used in an operation and the smaller of the two is moved across the larger to make them line up. For this to work, the dimensions being matched either need to be equal, or one of them needs to be of size one. In the example above, we broadcast the scalar value two across the array.\n",
    "\n",
    "Here is a 3 by 3 array of zeros:"
   ]
  },
  {
   "cell_type": "code",
   "execution_count": 43,
   "metadata": {
    "slideshow": {
     "slide_type": "slide"
    }
   },
   "outputs": [
    {
     "name": "stdout",
     "output_type": "stream",
     "text": [
      "[[0. 0. 0.]\n",
      " [0. 0. 0.]\n",
      " [0. 0. 0.]]\n"
     ]
    }
   ],
   "source": [
    "z = np.zeros((3,3))\n",
    "print(z)"
   ]
  },
  {
   "cell_type": "markdown",
   "metadata": {
    "slideshow": {
     "slide_type": "skip"
    }
   },
   "source": [
    "Now we define an array of length three and add it to the first array. See how each row has the contents of the new array,s  added to it. The array s is broadcast over z."
   ]
  },
  {
   "cell_type": "code",
   "execution_count": 44,
   "metadata": {
    "slideshow": {
     "slide_type": "fragment"
    }
   },
   "outputs": [
    {
     "name": "stdout",
     "output_type": "stream",
     "text": [
      "[[1. 2. 3.]\n",
      " [1. 2. 3.]\n",
      " [1. 2. 3.]]\n"
     ]
    }
   ],
   "source": [
    "s = np.array([1,2,3])\n",
    "z = z+s\n",
    "print(z)"
   ]
  },
  {
   "cell_type": "markdown",
   "metadata": {
    "slideshow": {
     "slide_type": "skip"
    }
   },
   "source": [
    "We can broadcast columnwise like this"
   ]
  },
  {
   "cell_type": "code",
   "execution_count": 45,
   "metadata": {
    "slideshow": {
     "slide_type": "slide"
    }
   },
   "outputs": [
    {
     "name": "stdout",
     "output_type": "stream",
     "text": [
      "[[1. 1. 1.]\n",
      " [2. 2. 2.]\n",
      " [3. 3. 3.]]\n"
     ]
    }
   ],
   "source": [
    "z = np.zeros((3,3))\n",
    "s = np.array([[1],[2],[3]])\n",
    "z = z+s\n",
    "print(z)"
   ]
  },
  {
   "cell_type": "markdown",
   "metadata": {
    "slideshow": {
     "slide_type": "skip"
    }
   },
   "source": [
    "We started with that 3 by 3 array of zeros, and added 1 to everything in the first row, 2 to the second and three to the third.\n",
    "\n",
    "That is all we will say about Numpy for now. You will have an opportunity to explore it yourself in the exercises. You should soon be able to load, save, access, slice, aggragate and broadcast numpy data arrays."
   ]
  },
  {
   "cell_type": "markdown",
   "metadata": {
    "slideshow": {
     "slide_type": "slide"
    }
   },
   "source": [
    "# Pandas"
   ]
  },
  {
   "cell_type": "markdown",
   "metadata": {
    "slideshow": {
     "slide_type": "skip"
    }
   },
   "source": [
    "## Import Pandas and read in a file\n",
    "Pandas is all about data, so let's import pandas and then load in a data file. I have some data here about loans made by a bank. It records some data about the customers and whether or not they repaid the loan. I happen to know that the first column contains the customer ID number, so when I read the data in, I will specify that with index_col=0."
   ]
  },
  {
   "cell_type": "code",
   "execution_count": 46,
   "metadata": {
    "slideshow": {
     "slide_type": "slide"
    }
   },
   "outputs": [
    {
     "data": {
      "text/html": [
       "<div>\n",
       "<style scoped>\n",
       "    .dataframe tbody tr th:only-of-type {\n",
       "        vertical-align: middle;\n",
       "    }\n",
       "\n",
       "    .dataframe tbody tr th {\n",
       "        vertical-align: top;\n",
       "    }\n",
       "\n",
       "    .dataframe thead th {\n",
       "        text-align: right;\n",
       "    }\n",
       "</style>\n",
       "<table border=\"1\" class=\"dataframe\">\n",
       "  <thead>\n",
       "    <tr style=\"text-align: right;\">\n",
       "      <th></th>\n",
       "      <th>Age</th>\n",
       "      <th>Current Customer</th>\n",
       "      <th>Years at address</th>\n",
       "      <th>Employment status</th>\n",
       "      <th>Country</th>\n",
       "      <th>Current debt</th>\n",
       "      <th>Income</th>\n",
       "      <th>Own home</th>\n",
       "      <th>CCJs</th>\n",
       "      <th>Loan amount</th>\n",
       "      <th>Outcome</th>\n",
       "    </tr>\n",
       "    <tr>\n",
       "      <th>Customer ID</th>\n",
       "      <th></th>\n",
       "      <th></th>\n",
       "      <th></th>\n",
       "      <th></th>\n",
       "      <th></th>\n",
       "      <th></th>\n",
       "      <th></th>\n",
       "      <th></th>\n",
       "      <th></th>\n",
       "      <th></th>\n",
       "      <th></th>\n",
       "    </tr>\n",
       "  </thead>\n",
       "  <tbody>\n",
       "    <tr>\n",
       "      <th>945780</th>\n",
       "      <td>19</td>\n",
       "      <td>Yes</td>\n",
       "      <td>2</td>\n",
       "      <td>Unemployed</td>\n",
       "      <td>UK</td>\n",
       "      <td>0</td>\n",
       "      <td>45500</td>\n",
       "      <td>Rent</td>\n",
       "      <td>1</td>\n",
       "      <td>13234</td>\n",
       "      <td>Paid</td>\n",
       "    </tr>\n",
       "    <tr>\n",
       "      <th>747989</th>\n",
       "      <td>66</td>\n",
       "      <td>Yes</td>\n",
       "      <td>13</td>\n",
       "      <td>Unemployed</td>\n",
       "      <td>UK</td>\n",
       "      <td>1080</td>\n",
       "      <td>18000</td>\n",
       "      <td>Own</td>\n",
       "      <td>0</td>\n",
       "      <td>5561</td>\n",
       "      <td>Paid</td>\n",
       "    </tr>\n",
       "    <tr>\n",
       "      <th>790344</th>\n",
       "      <td>48</td>\n",
       "      <td>Yes</td>\n",
       "      <td>4</td>\n",
       "      <td>Self Employed</td>\n",
       "      <td>UK</td>\n",
       "      <td>3690</td>\n",
       "      <td>47500</td>\n",
       "      <td>Rent</td>\n",
       "      <td>1</td>\n",
       "      <td>28288</td>\n",
       "      <td>Paid</td>\n",
       "    </tr>\n",
       "    <tr>\n",
       "      <th>597668</th>\n",
       "      <td>67</td>\n",
       "      <td>Yes</td>\n",
       "      <td>47</td>\n",
       "      <td>Self Employed</td>\n",
       "      <td>UK</td>\n",
       "      <td>6560</td>\n",
       "      <td>36000</td>\n",
       "      <td>Mortgage</td>\n",
       "      <td>0</td>\n",
       "      <td>30199</td>\n",
       "      <td>Paid</td>\n",
       "    </tr>\n",
       "    <tr>\n",
       "      <th>794971</th>\n",
       "      <td>70</td>\n",
       "      <td>No</td>\n",
       "      <td>8</td>\n",
       "      <td>Self Employed</td>\n",
       "      <td>UK</td>\n",
       "      <td>9100</td>\n",
       "      <td>50500</td>\n",
       "      <td>Own</td>\n",
       "      <td>0</td>\n",
       "      <td>35078</td>\n",
       "      <td>Paid</td>\n",
       "    </tr>\n",
       "  </tbody>\n",
       "</table>\n",
       "</div>"
      ],
      "text/plain": [
       "             Age Current Customer  Years at address Employment status Country  \\\n",
       "Customer ID                                                                     \n",
       "945780        19              Yes                 2        Unemployed      UK   \n",
       "747989        66              Yes                13        Unemployed      UK   \n",
       "790344        48              Yes                 4     Self Employed      UK   \n",
       "597668        67              Yes                47     Self Employed      UK   \n",
       "794971        70               No                 8     Self Employed      UK   \n",
       "\n",
       "             Current debt  Income  Own home  CCJs  Loan amount Outcome  \n",
       "Customer ID                                                             \n",
       "945780                  0   45500      Rent     1        13234    Paid  \n",
       "747989               1080   18000       Own     0         5561    Paid  \n",
       "790344               3690   47500      Rent     1        28288    Paid  \n",
       "597668               6560   36000  Mortgage     0        30199    Paid  \n",
       "794971               9100   50500       Own     0        35078    Paid  "
      ]
     },
     "metadata": {},
     "output_type": "display_data"
    }
   ],
   "source": [
    "import pandas as pd\n",
    "loans=pd.read_csv(\"data/loans.csv\", index_col=0)\n",
    "display(loans.head())"
   ]
  },
  {
   "cell_type": "markdown",
   "metadata": {
    "slideshow": {
     "slide_type": "skip"
    }
   },
   "source": [
    "Here are the first five rows of the data frame, displayed by typing display(loans.head()). Notice how the column headings are shown at the top, and the index value, which is customer ID, is highlighted."
   ]
  },
  {
   "cell_type": "markdown",
   "metadata": {
    "slideshow": {
     "slide_type": "skip"
    }
   },
   "source": [
    "We select columns by name, and there are two choices for the syntax. Here they both are. See how the data are displayed along wiht the index values in customer ID, even though we only selected the age column. This is one useful aspect of the use of indexes."
   ]
  },
  {
   "cell_type": "code",
   "execution_count": 47,
   "metadata": {
    "slideshow": {
     "slide_type": "slide"
    }
   },
   "outputs": [
    {
     "data": {
      "text/plain": [
       "Customer ID\n",
       "945780    19\n",
       "747989    66\n",
       "790344    48\n",
       "597668    67\n",
       "794971    70\n",
       "Name: Age, dtype: int64"
      ]
     },
     "metadata": {},
     "output_type": "display_data"
    }
   ],
   "source": [
    "ages=loans.Age\n",
    "display(ages.head())"
   ]
  },
  {
   "cell_type": "code",
   "execution_count": 48,
   "metadata": {
    "slideshow": {
     "slide_type": "fragment"
    }
   },
   "outputs": [
    {
     "data": {
      "text/plain": [
       "Customer ID\n",
       "945780    19\n",
       "747989    66\n",
       "790344    48\n",
       "597668    67\n",
       "794971    70\n",
       "Name: Age, dtype: int64"
      ]
     },
     "metadata": {},
     "output_type": "display_data"
    }
   ],
   "source": [
    "ages=loans['Age']\n",
    "display(ages.head())"
   ]
  },
  {
   "cell_type": "markdown",
   "metadata": {
    "slideshow": {
     "slide_type": "skip"
    }
   },
   "source": [
    "We can select more than one column together using an array of column names like this:"
   ]
  },
  {
   "cell_type": "code",
   "execution_count": 49,
   "metadata": {
    "slideshow": {
     "slide_type": "slide"
    }
   },
   "outputs": [
    {
     "data": {
      "text/html": [
       "<div>\n",
       "<style scoped>\n",
       "    .dataframe tbody tr th:only-of-type {\n",
       "        vertical-align: middle;\n",
       "    }\n",
       "\n",
       "    .dataframe tbody tr th {\n",
       "        vertical-align: top;\n",
       "    }\n",
       "\n",
       "    .dataframe thead th {\n",
       "        text-align: right;\n",
       "    }\n",
       "</style>\n",
       "<table border=\"1\" class=\"dataframe\">\n",
       "  <thead>\n",
       "    <tr style=\"text-align: right;\">\n",
       "      <th></th>\n",
       "      <th>Age</th>\n",
       "      <th>Loan amount</th>\n",
       "    </tr>\n",
       "    <tr>\n",
       "      <th>Customer ID</th>\n",
       "      <th></th>\n",
       "      <th></th>\n",
       "    </tr>\n",
       "  </thead>\n",
       "  <tbody>\n",
       "    <tr>\n",
       "      <th>945780</th>\n",
       "      <td>19</td>\n",
       "      <td>13234</td>\n",
       "    </tr>\n",
       "    <tr>\n",
       "      <th>747989</th>\n",
       "      <td>66</td>\n",
       "      <td>5561</td>\n",
       "    </tr>\n",
       "    <tr>\n",
       "      <th>790344</th>\n",
       "      <td>48</td>\n",
       "      <td>28288</td>\n",
       "    </tr>\n",
       "    <tr>\n",
       "      <th>597668</th>\n",
       "      <td>67</td>\n",
       "      <td>30199</td>\n",
       "    </tr>\n",
       "    <tr>\n",
       "      <th>794971</th>\n",
       "      <td>70</td>\n",
       "      <td>35078</td>\n",
       "    </tr>\n",
       "  </tbody>\n",
       "</table>\n",
       "</div>"
      ],
      "text/plain": [
       "             Age  Loan amount\n",
       "Customer ID                  \n",
       "945780        19        13234\n",
       "747989        66         5561\n",
       "790344        48        28288\n",
       "597668        67        30199\n",
       "794971        70        35078"
      ]
     },
     "metadata": {},
     "output_type": "display_data"
    }
   ],
   "source": [
    "age_loan=loans[['Age', 'Loan amount']]\n",
    "display(age_loan.head())"
   ]
  },
  {
   "cell_type": "markdown",
   "metadata": {
    "slideshow": {
     "slide_type": "skip"
    }
   },
   "source": [
    "You can select rows either by their location number or using the index field if there is one. You can see that the first entry in the data has customer ID 945780, so let's select that row using each of the two possible methods. To use the index key, we use the dot loc syntax like this"
   ]
  },
  {
   "cell_type": "code",
   "execution_count": 50,
   "metadata": {
    "slideshow": {
     "slide_type": "slide"
    }
   },
   "outputs": [
    {
     "name": "stdout",
     "output_type": "stream",
     "text": [
      "Age                          19\n",
      "Current Customer            Yes\n",
      "Years at address              2\n",
      "Employment status    Unemployed\n",
      "Country                      UK\n",
      "Current debt                  0\n",
      "Income                    45500\n",
      "Own home                   Rent\n",
      "CCJs                          1\n",
      "Loan amount               13234\n",
      "Outcome                    Paid\n",
      "Name: 945780, dtype: object\n"
     ]
    }
   ],
   "source": [
    "print(loans.loc[945780])"
   ]
  },
  {
   "cell_type": "markdown",
   "metadata": {
    "slideshow": {
     "slide_type": "skip"
    }
   },
   "source": [
    "and to select by location, we use iloc, like this"
   ]
  },
  {
   "cell_type": "code",
   "execution_count": 51,
   "metadata": {
    "scrolled": true,
    "slideshow": {
     "slide_type": "fragment"
    }
   },
   "outputs": [
    {
     "name": "stdout",
     "output_type": "stream",
     "text": [
      "Age                          19\n",
      "Current Customer            Yes\n",
      "Years at address              2\n",
      "Employment status    Unemployed\n",
      "Country                      UK\n",
      "Current debt                  0\n",
      "Income                    45500\n",
      "Own home                   Rent\n",
      "CCJs                          1\n",
      "Loan amount               13234\n",
      "Outcome                    Paid\n",
      "Name: 945780, dtype: object\n"
     ]
    }
   ],
   "source": [
    "print(loans.iloc[0])"
   ]
  },
  {
   "cell_type": "markdown",
   "metadata": {
    "slideshow": {
     "slide_type": "skip"
    }
   },
   "source": [
    "So there are the two ways to select rows in Pandas. Use dot loc to access by index value and dot iloc to access by row number.\n",
    "\n",
    "You can also select using conditions, much in the same way as we did in Numpy. Here we find all the records where age is over 60"
   ]
  },
  {
   "cell_type": "code",
   "execution_count": 52,
   "metadata": {
    "scrolled": true,
    "slideshow": {
     "slide_type": "slide"
    }
   },
   "outputs": [
    {
     "data": {
      "text/html": [
       "<div>\n",
       "<style scoped>\n",
       "    .dataframe tbody tr th:only-of-type {\n",
       "        vertical-align: middle;\n",
       "    }\n",
       "\n",
       "    .dataframe tbody tr th {\n",
       "        vertical-align: top;\n",
       "    }\n",
       "\n",
       "    .dataframe thead th {\n",
       "        text-align: right;\n",
       "    }\n",
       "</style>\n",
       "<table border=\"1\" class=\"dataframe\">\n",
       "  <thead>\n",
       "    <tr style=\"text-align: right;\">\n",
       "      <th></th>\n",
       "      <th>Age</th>\n",
       "      <th>Current Customer</th>\n",
       "      <th>Years at address</th>\n",
       "      <th>Employment status</th>\n",
       "      <th>Country</th>\n",
       "      <th>Current debt</th>\n",
       "      <th>Income</th>\n",
       "      <th>Own home</th>\n",
       "      <th>CCJs</th>\n",
       "      <th>Loan amount</th>\n",
       "      <th>Outcome</th>\n",
       "    </tr>\n",
       "    <tr>\n",
       "      <th>Customer ID</th>\n",
       "      <th></th>\n",
       "      <th></th>\n",
       "      <th></th>\n",
       "      <th></th>\n",
       "      <th></th>\n",
       "      <th></th>\n",
       "      <th></th>\n",
       "      <th></th>\n",
       "      <th></th>\n",
       "      <th></th>\n",
       "      <th></th>\n",
       "    </tr>\n",
       "  </thead>\n",
       "  <tbody>\n",
       "    <tr>\n",
       "      <th>747989</th>\n",
       "      <td>66</td>\n",
       "      <td>Yes</td>\n",
       "      <td>13</td>\n",
       "      <td>Unemployed</td>\n",
       "      <td>UK</td>\n",
       "      <td>1080</td>\n",
       "      <td>18000</td>\n",
       "      <td>Own</td>\n",
       "      <td>0</td>\n",
       "      <td>5561</td>\n",
       "      <td>Paid</td>\n",
       "    </tr>\n",
       "    <tr>\n",
       "      <th>597668</th>\n",
       "      <td>67</td>\n",
       "      <td>Yes</td>\n",
       "      <td>47</td>\n",
       "      <td>Self Employed</td>\n",
       "      <td>UK</td>\n",
       "      <td>6560</td>\n",
       "      <td>36000</td>\n",
       "      <td>Mortgage</td>\n",
       "      <td>0</td>\n",
       "      <td>30199</td>\n",
       "      <td>Paid</td>\n",
       "    </tr>\n",
       "    <tr>\n",
       "      <th>794971</th>\n",
       "      <td>70</td>\n",
       "      <td>No</td>\n",
       "      <td>8</td>\n",
       "      <td>Self Employed</td>\n",
       "      <td>UK</td>\n",
       "      <td>9100</td>\n",
       "      <td>50500</td>\n",
       "      <td>Own</td>\n",
       "      <td>0</td>\n",
       "      <td>35078</td>\n",
       "      <td>Paid</td>\n",
       "    </tr>\n",
       "    <tr>\n",
       "      <th>563000</th>\n",
       "      <td>77</td>\n",
       "      <td>Yes</td>\n",
       "      <td>5</td>\n",
       "      <td>Self Employed</td>\n",
       "      <td>UK</td>\n",
       "      <td>8850</td>\n",
       "      <td>14000</td>\n",
       "      <td>Mortgage</td>\n",
       "      <td>2</td>\n",
       "      <td>5513</td>\n",
       "      <td>Paid</td>\n",
       "    </tr>\n",
       "    <tr>\n",
       "      <th>827260</th>\n",
       "      <td>89</td>\n",
       "      <td>Yes</td>\n",
       "      <td>49</td>\n",
       "      <td>Employed</td>\n",
       "      <td>UK</td>\n",
       "      <td>1090</td>\n",
       "      <td>34500</td>\n",
       "      <td>Own</td>\n",
       "      <td>3</td>\n",
       "      <td>15398</td>\n",
       "      <td>Paid</td>\n",
       "    </tr>\n",
       "  </tbody>\n",
       "</table>\n",
       "</div>"
      ],
      "text/plain": [
       "             Age Current Customer  Years at address Employment status Country  \\\n",
       "Customer ID                                                                     \n",
       "747989        66              Yes                13        Unemployed      UK   \n",
       "597668        67              Yes                47     Self Employed      UK   \n",
       "794971        70               No                 8     Self Employed      UK   \n",
       "563000        77              Yes                 5     Self Employed      UK   \n",
       "827260        89              Yes                49          Employed      UK   \n",
       "\n",
       "             Current debt  Income  Own home  CCJs  Loan amount Outcome  \n",
       "Customer ID                                                             \n",
       "747989               1080   18000       Own     0         5561    Paid  \n",
       "597668               6560   36000  Mortgage     0        30199    Paid  \n",
       "794971               9100   50500       Own     0        35078    Paid  \n",
       "563000               8850   14000  Mortgage     2         5513    Paid  \n",
       "827260               1090   34500       Own     3        15398    Paid  "
      ]
     },
     "metadata": {},
     "output_type": "display_data"
    }
   ],
   "source": [
    "over60=loans[loans.Age>60]\n",
    "display(over60.head())"
   ]
  },
  {
   "cell_type": "markdown",
   "metadata": {
    "slideshow": {
     "slide_type": "skip"
    }
   },
   "source": [
    "Finally, let's combine both row and column selection and find the income for all customers aged over 60 who own their own home"
   ]
  },
  {
   "cell_type": "code",
   "execution_count": 53,
   "metadata": {
    "slideshow": {
     "slide_type": "slide"
    }
   },
   "outputs": [
    {
     "name": "stdout",
     "output_type": "stream",
     "text": [
      "             Income  Age\n",
      "Customer ID             \n",
      "747989        18000   66\n",
      "794971        50500   70\n",
      "827260        34500   89\n",
      "871886        36500   78\n",
      "899694        22500   62\n"
     ]
    }
   ],
   "source": [
    "over60Income=loans[(loans.Age>60) & (loans['Own home']==\"Own\")][['Income','Age']]\n",
    "print(over60Income.head())"
   ]
  },
  {
   "cell_type": "markdown",
   "metadata": {
    "slideshow": {
     "slide_type": "skip"
    }
   },
   "source": [
    "## Manipulating your data frame\n",
    "We can read data into a date frame, and access it once it is there. Now let's learn how to manipulate it. In this part, we will add and remove rows and columns and replace certain values with new values. Let's start by adding one more customer to the data frame. This is done by creating a new dataframe of the same format as the one we want to add to and concatenating them. Here are the two line of code we need, plus one more to show the tail of the dataframe where we can see our appended row.\n"
   ]
  },
  {
   "cell_type": "markdown",
   "metadata": {
    "slideshow": {
     "slide_type": "slide"
    }
   },
   "source": [
    "# Manipulating a Data Frame"
   ]
  },
  {
   "cell_type": "code",
   "execution_count": 54,
   "metadata": {
    "slideshow": {
     "slide_type": "slide"
    }
   },
   "outputs": [
    {
     "data": {
      "text/html": [
       "<div>\n",
       "<style scoped>\n",
       "    .dataframe tbody tr th:only-of-type {\n",
       "        vertical-align: middle;\n",
       "    }\n",
       "\n",
       "    .dataframe tbody tr th {\n",
       "        vertical-align: top;\n",
       "    }\n",
       "\n",
       "    .dataframe thead th {\n",
       "        text-align: right;\n",
       "    }\n",
       "</style>\n",
       "<table border=\"1\" class=\"dataframe\">\n",
       "  <thead>\n",
       "    <tr style=\"text-align: right;\">\n",
       "      <th></th>\n",
       "      <th>Age</th>\n",
       "      <th>Current Customer</th>\n",
       "      <th>Years at address</th>\n",
       "      <th>Employment status</th>\n",
       "      <th>Country</th>\n",
       "      <th>Current debt</th>\n",
       "      <th>Income</th>\n",
       "      <th>Own home</th>\n",
       "      <th>CCJs</th>\n",
       "      <th>Loan amount</th>\n",
       "      <th>Outcome</th>\n",
       "    </tr>\n",
       "  </thead>\n",
       "  <tbody>\n",
       "    <tr>\n",
       "      <th>810444</th>\n",
       "      <td>24</td>\n",
       "      <td>Yes</td>\n",
       "      <td>7</td>\n",
       "      <td>Self Employed</td>\n",
       "      <td>UK</td>\n",
       "      <td>5130</td>\n",
       "      <td>38000</td>\n",
       "      <td>Own</td>\n",
       "      <td>0</td>\n",
       "      <td>35911</td>\n",
       "      <td>Paid</td>\n",
       "    </tr>\n",
       "    <tr>\n",
       "      <th>767192</th>\n",
       "      <td>34</td>\n",
       "      <td>No</td>\n",
       "      <td>5</td>\n",
       "      <td>Unemployed</td>\n",
       "      <td>UK</td>\n",
       "      <td>6530</td>\n",
       "      <td>41500</td>\n",
       "      <td>Own</td>\n",
       "      <td>2</td>\n",
       "      <td>6874</td>\n",
       "      <td>Paid</td>\n",
       "    </tr>\n",
       "    <tr>\n",
       "      <th>808753</th>\n",
       "      <td>52</td>\n",
       "      <td>Yes</td>\n",
       "      <td>2</td>\n",
       "      <td>Employed</td>\n",
       "      <td>UK</td>\n",
       "      <td>930</td>\n",
       "      <td>32500</td>\n",
       "      <td>Own</td>\n",
       "      <td>0</td>\n",
       "      <td>5412</td>\n",
       "      <td>Paid</td>\n",
       "    </tr>\n",
       "    <tr>\n",
       "      <th>1037992</th>\n",
       "      <td>42</td>\n",
       "      <td>No</td>\n",
       "      <td>3</td>\n",
       "      <td>Self Employed</td>\n",
       "      <td>UK</td>\n",
       "      <td>10</td>\n",
       "      <td>49000</td>\n",
       "      <td>Own</td>\n",
       "      <td>0</td>\n",
       "      <td>3835</td>\n",
       "      <td>Defaulted</td>\n",
       "    </tr>\n",
       "    <tr>\n",
       "      <th>123456</th>\n",
       "      <td>83</td>\n",
       "      <td>F</td>\n",
       "      <td>35</td>\n",
       "      <td>Employed</td>\n",
       "      <td>UK</td>\n",
       "      <td>2100</td>\n",
       "      <td>38000</td>\n",
       "      <td>Own</td>\n",
       "      <td>2</td>\n",
       "      <td>500</td>\n",
       "      <td>Paid</td>\n",
       "    </tr>\n",
       "  </tbody>\n",
       "</table>\n",
       "</div>"
      ],
      "text/plain": [
       "         Age Current Customer  Years at address Employment status Country  \\\n",
       "810444    24              Yes                 7     Self Employed      UK   \n",
       "767192    34               No                 5        Unemployed      UK   \n",
       "808753    52              Yes                 2          Employed      UK   \n",
       "1037992   42               No                 3     Self Employed      UK   \n",
       "123456    83                F                35          Employed      UK   \n",
       "\n",
       "         Current debt  Income Own home  CCJs  Loan amount    Outcome  \n",
       "810444           5130   38000      Own     0        35911       Paid  \n",
       "767192           6530   41500      Own     2         6874       Paid  \n",
       "808753            930   32500      Own     0         5412       Paid  \n",
       "1037992            10   49000      Own     0         3835  Defaulted  \n",
       "123456           2100   38000      Own     2          500       Paid  "
      ]
     },
     "metadata": {},
     "output_type": "display_data"
    }
   ],
   "source": [
    "new_row = pd.DataFrame([[83,'F',35,'Employed','UK',2100,38000,'Own',2,500,'Paid']],\n",
    "                       index=[123456], columns=loans.columns)\n",
    "loans = loans.append(new_row)\n",
    "display(loans.tail())"
   ]
  },
  {
   "cell_type": "markdown",
   "metadata": {
    "slideshow": {
     "slide_type": "skip"
    }
   },
   "source": [
    "Now we have run the code, a few things need explaining. Firstly, see how we create a new data frame with the same columns as the loans frame, using loans.columns. We fill the new frame with a single row of data. See that the index, which is customer ID, is not part of the data, so we start at the age column. Data frames can have many rows, so even though ours only has one, we still need the double array, which is why we have two open and two closed square brackets. We declare the index value (customer ID) separately. I've just chosen 123456. Then we call the append function and assign the result of running it to a new variable, also called loans, which will contain the new, slightly longer data frame.\n",
    "\n",
    "Next we will add a column by making a calculation from other columns. Let's create a column that contains the ratio of current debt to loan amount."
   ]
  },
  {
   "cell_type": "code",
   "execution_count": 55,
   "metadata": {
    "slideshow": {
     "slide_type": "slide"
    }
   },
   "outputs": [
    {
     "data": {
      "text/html": [
       "<div>\n",
       "<style scoped>\n",
       "    .dataframe tbody tr th:only-of-type {\n",
       "        vertical-align: middle;\n",
       "    }\n",
       "\n",
       "    .dataframe tbody tr th {\n",
       "        vertical-align: top;\n",
       "    }\n",
       "\n",
       "    .dataframe thead th {\n",
       "        text-align: right;\n",
       "    }\n",
       "</style>\n",
       "<table border=\"1\" class=\"dataframe\">\n",
       "  <thead>\n",
       "    <tr style=\"text-align: right;\">\n",
       "      <th></th>\n",
       "      <th>Age</th>\n",
       "      <th>Current Customer</th>\n",
       "      <th>Years at address</th>\n",
       "      <th>Employment status</th>\n",
       "      <th>Country</th>\n",
       "      <th>Current debt</th>\n",
       "      <th>Income</th>\n",
       "      <th>Own home</th>\n",
       "      <th>CCJs</th>\n",
       "      <th>Loan amount</th>\n",
       "      <th>Outcome</th>\n",
       "      <th>Debt to loan</th>\n",
       "    </tr>\n",
       "  </thead>\n",
       "  <tbody>\n",
       "    <tr>\n",
       "      <th>945780</th>\n",
       "      <td>19</td>\n",
       "      <td>Yes</td>\n",
       "      <td>2</td>\n",
       "      <td>Unemployed</td>\n",
       "      <td>UK</td>\n",
       "      <td>0</td>\n",
       "      <td>45500</td>\n",
       "      <td>Rent</td>\n",
       "      <td>1</td>\n",
       "      <td>13234</td>\n",
       "      <td>Paid</td>\n",
       "      <td>0.000000</td>\n",
       "    </tr>\n",
       "    <tr>\n",
       "      <th>747989</th>\n",
       "      <td>66</td>\n",
       "      <td>Yes</td>\n",
       "      <td>13</td>\n",
       "      <td>Unemployed</td>\n",
       "      <td>UK</td>\n",
       "      <td>1080</td>\n",
       "      <td>18000</td>\n",
       "      <td>Own</td>\n",
       "      <td>0</td>\n",
       "      <td>5561</td>\n",
       "      <td>Paid</td>\n",
       "      <td>0.194210</td>\n",
       "    </tr>\n",
       "    <tr>\n",
       "      <th>790344</th>\n",
       "      <td>48</td>\n",
       "      <td>Yes</td>\n",
       "      <td>4</td>\n",
       "      <td>Self Employed</td>\n",
       "      <td>UK</td>\n",
       "      <td>3690</td>\n",
       "      <td>47500</td>\n",
       "      <td>Rent</td>\n",
       "      <td>1</td>\n",
       "      <td>28288</td>\n",
       "      <td>Paid</td>\n",
       "      <td>0.130444</td>\n",
       "    </tr>\n",
       "    <tr>\n",
       "      <th>597668</th>\n",
       "      <td>67</td>\n",
       "      <td>Yes</td>\n",
       "      <td>47</td>\n",
       "      <td>Self Employed</td>\n",
       "      <td>UK</td>\n",
       "      <td>6560</td>\n",
       "      <td>36000</td>\n",
       "      <td>Mortgage</td>\n",
       "      <td>0</td>\n",
       "      <td>30199</td>\n",
       "      <td>Paid</td>\n",
       "      <td>0.217226</td>\n",
       "    </tr>\n",
       "    <tr>\n",
       "      <th>794971</th>\n",
       "      <td>70</td>\n",
       "      <td>No</td>\n",
       "      <td>8</td>\n",
       "      <td>Self Employed</td>\n",
       "      <td>UK</td>\n",
       "      <td>9100</td>\n",
       "      <td>50500</td>\n",
       "      <td>Own</td>\n",
       "      <td>0</td>\n",
       "      <td>35078</td>\n",
       "      <td>Paid</td>\n",
       "      <td>0.259422</td>\n",
       "    </tr>\n",
       "  </tbody>\n",
       "</table>\n",
       "</div>"
      ],
      "text/plain": [
       "        Age Current Customer  Years at address Employment status Country  \\\n",
       "945780   19              Yes                 2        Unemployed      UK   \n",
       "747989   66              Yes                13        Unemployed      UK   \n",
       "790344   48              Yes                 4     Self Employed      UK   \n",
       "597668   67              Yes                47     Self Employed      UK   \n",
       "794971   70               No                 8     Self Employed      UK   \n",
       "\n",
       "        Current debt  Income  Own home  CCJs  Loan amount Outcome  \\\n",
       "945780             0   45500      Rent     1        13234    Paid   \n",
       "747989          1080   18000       Own     0         5561    Paid   \n",
       "790344          3690   47500      Rent     1        28288    Paid   \n",
       "597668          6560   36000  Mortgage     0        30199    Paid   \n",
       "794971          9100   50500       Own     0        35078    Paid   \n",
       "\n",
       "        Debt to loan  \n",
       "945780      0.000000  \n",
       "747989      0.194210  \n",
       "790344      0.130444  \n",
       "597668      0.217226  \n",
       "794971      0.259422  "
      ]
     },
     "metadata": {},
     "output_type": "display_data"
    }
   ],
   "source": [
    "loans['Debt to loan'] = loans['Current debt']/loans['Loan amount']\n",
    "display(loans.head())"
   ]
  },
  {
   "cell_type": "markdown",
   "metadata": {
    "slideshow": {
     "slide_type": "skip"
    }
   },
   "source": [
    "That is pretty simple. Look at the Country field - it contains UK for every record. Let's delete that column"
   ]
  },
  {
   "cell_type": "code",
   "execution_count": 56,
   "metadata": {
    "slideshow": {
     "slide_type": "slide"
    }
   },
   "outputs": [
    {
     "data": {
      "text/html": [
       "<div>\n",
       "<style scoped>\n",
       "    .dataframe tbody tr th:only-of-type {\n",
       "        vertical-align: middle;\n",
       "    }\n",
       "\n",
       "    .dataframe tbody tr th {\n",
       "        vertical-align: top;\n",
       "    }\n",
       "\n",
       "    .dataframe thead th {\n",
       "        text-align: right;\n",
       "    }\n",
       "</style>\n",
       "<table border=\"1\" class=\"dataframe\">\n",
       "  <thead>\n",
       "    <tr style=\"text-align: right;\">\n",
       "      <th></th>\n",
       "      <th>Age</th>\n",
       "      <th>Current Customer</th>\n",
       "      <th>Years at address</th>\n",
       "      <th>Employment status</th>\n",
       "      <th>Current debt</th>\n",
       "      <th>Income</th>\n",
       "      <th>Own home</th>\n",
       "      <th>CCJs</th>\n",
       "      <th>Loan amount</th>\n",
       "      <th>Outcome</th>\n",
       "      <th>Debt to loan</th>\n",
       "    </tr>\n",
       "  </thead>\n",
       "  <tbody>\n",
       "    <tr>\n",
       "      <th>945780</th>\n",
       "      <td>19</td>\n",
       "      <td>Yes</td>\n",
       "      <td>2</td>\n",
       "      <td>Unemployed</td>\n",
       "      <td>0</td>\n",
       "      <td>45500</td>\n",
       "      <td>Rent</td>\n",
       "      <td>1</td>\n",
       "      <td>13234</td>\n",
       "      <td>Paid</td>\n",
       "      <td>0.000000</td>\n",
       "    </tr>\n",
       "    <tr>\n",
       "      <th>747989</th>\n",
       "      <td>66</td>\n",
       "      <td>Yes</td>\n",
       "      <td>13</td>\n",
       "      <td>Unemployed</td>\n",
       "      <td>1080</td>\n",
       "      <td>18000</td>\n",
       "      <td>Own</td>\n",
       "      <td>0</td>\n",
       "      <td>5561</td>\n",
       "      <td>Paid</td>\n",
       "      <td>0.194210</td>\n",
       "    </tr>\n",
       "    <tr>\n",
       "      <th>790344</th>\n",
       "      <td>48</td>\n",
       "      <td>Yes</td>\n",
       "      <td>4</td>\n",
       "      <td>Self Employed</td>\n",
       "      <td>3690</td>\n",
       "      <td>47500</td>\n",
       "      <td>Rent</td>\n",
       "      <td>1</td>\n",
       "      <td>28288</td>\n",
       "      <td>Paid</td>\n",
       "      <td>0.130444</td>\n",
       "    </tr>\n",
       "    <tr>\n",
       "      <th>597668</th>\n",
       "      <td>67</td>\n",
       "      <td>Yes</td>\n",
       "      <td>47</td>\n",
       "      <td>Self Employed</td>\n",
       "      <td>6560</td>\n",
       "      <td>36000</td>\n",
       "      <td>Mortgage</td>\n",
       "      <td>0</td>\n",
       "      <td>30199</td>\n",
       "      <td>Paid</td>\n",
       "      <td>0.217226</td>\n",
       "    </tr>\n",
       "    <tr>\n",
       "      <th>794971</th>\n",
       "      <td>70</td>\n",
       "      <td>No</td>\n",
       "      <td>8</td>\n",
       "      <td>Self Employed</td>\n",
       "      <td>9100</td>\n",
       "      <td>50500</td>\n",
       "      <td>Own</td>\n",
       "      <td>0</td>\n",
       "      <td>35078</td>\n",
       "      <td>Paid</td>\n",
       "      <td>0.259422</td>\n",
       "    </tr>\n",
       "  </tbody>\n",
       "</table>\n",
       "</div>"
      ],
      "text/plain": [
       "        Age Current Customer  Years at address Employment status  \\\n",
       "945780   19              Yes                 2        Unemployed   \n",
       "747989   66              Yes                13        Unemployed   \n",
       "790344   48              Yes                 4     Self Employed   \n",
       "597668   67              Yes                47     Self Employed   \n",
       "794971   70               No                 8     Self Employed   \n",
       "\n",
       "        Current debt  Income  Own home  CCJs  Loan amount Outcome  \\\n",
       "945780             0   45500      Rent     1        13234    Paid   \n",
       "747989          1080   18000       Own     0         5561    Paid   \n",
       "790344          3690   47500      Rent     1        28288    Paid   \n",
       "597668          6560   36000  Mortgage     0        30199    Paid   \n",
       "794971          9100   50500       Own     0        35078    Paid   \n",
       "\n",
       "        Debt to loan  \n",
       "945780      0.000000  \n",
       "747989      0.194210  \n",
       "790344      0.130444  \n",
       "597668      0.217226  \n",
       "794971      0.259422  "
      ]
     },
     "metadata": {},
     "output_type": "display_data"
    }
   ],
   "source": [
    "loans.drop(columns = ['Country'], inplace=True)\n",
    "display(loans.head())"
   ]
  },
  {
   "cell_type": "markdown",
   "metadata": {
    "slideshow": {
     "slide_type": "skip"
    }
   },
   "source": [
    "The drop function returns a new data frame without the dropped data, but you can tell it to delete it from the data frame you use to call it by adding the inplace equals True arguement. To remove a row, you call drop with the index you want to remove. This time we don't specify columns to delete. Let's delete the new row we added with user ID 123456"
   ]
  },
  {
   "cell_type": "code",
   "execution_count": 57,
   "metadata": {
    "slideshow": {
     "slide_type": "slide"
    }
   },
   "outputs": [
    {
     "data": {
      "text/html": [
       "<div>\n",
       "<style scoped>\n",
       "    .dataframe tbody tr th:only-of-type {\n",
       "        vertical-align: middle;\n",
       "    }\n",
       "\n",
       "    .dataframe tbody tr th {\n",
       "        vertical-align: top;\n",
       "    }\n",
       "\n",
       "    .dataframe thead th {\n",
       "        text-align: right;\n",
       "    }\n",
       "</style>\n",
       "<table border=\"1\" class=\"dataframe\">\n",
       "  <thead>\n",
       "    <tr style=\"text-align: right;\">\n",
       "      <th></th>\n",
       "      <th>Age</th>\n",
       "      <th>Current Customer</th>\n",
       "      <th>Years at address</th>\n",
       "      <th>Employment status</th>\n",
       "      <th>Current debt</th>\n",
       "      <th>Income</th>\n",
       "      <th>Own home</th>\n",
       "      <th>CCJs</th>\n",
       "      <th>Loan amount</th>\n",
       "      <th>Outcome</th>\n",
       "      <th>Debt to loan</th>\n",
       "    </tr>\n",
       "  </thead>\n",
       "  <tbody>\n",
       "    <tr>\n",
       "      <th>759856</th>\n",
       "      <td>60</td>\n",
       "      <td>Yes</td>\n",
       "      <td>4</td>\n",
       "      <td>Self Employed</td>\n",
       "      <td>2900</td>\n",
       "      <td>22500</td>\n",
       "      <td>Own</td>\n",
       "      <td>1</td>\n",
       "      <td>15725</td>\n",
       "      <td>Paid</td>\n",
       "      <td>0.184420</td>\n",
       "    </tr>\n",
       "    <tr>\n",
       "      <th>810444</th>\n",
       "      <td>24</td>\n",
       "      <td>Yes</td>\n",
       "      <td>7</td>\n",
       "      <td>Self Employed</td>\n",
       "      <td>5130</td>\n",
       "      <td>38000</td>\n",
       "      <td>Own</td>\n",
       "      <td>0</td>\n",
       "      <td>35911</td>\n",
       "      <td>Paid</td>\n",
       "      <td>0.142853</td>\n",
       "    </tr>\n",
       "    <tr>\n",
       "      <th>767192</th>\n",
       "      <td>34</td>\n",
       "      <td>No</td>\n",
       "      <td>5</td>\n",
       "      <td>Unemployed</td>\n",
       "      <td>6530</td>\n",
       "      <td>41500</td>\n",
       "      <td>Own</td>\n",
       "      <td>2</td>\n",
       "      <td>6874</td>\n",
       "      <td>Paid</td>\n",
       "      <td>0.949956</td>\n",
       "    </tr>\n",
       "    <tr>\n",
       "      <th>808753</th>\n",
       "      <td>52</td>\n",
       "      <td>Yes</td>\n",
       "      <td>2</td>\n",
       "      <td>Employed</td>\n",
       "      <td>930</td>\n",
       "      <td>32500</td>\n",
       "      <td>Own</td>\n",
       "      <td>0</td>\n",
       "      <td>5412</td>\n",
       "      <td>Paid</td>\n",
       "      <td>0.171840</td>\n",
       "    </tr>\n",
       "    <tr>\n",
       "      <th>1037992</th>\n",
       "      <td>42</td>\n",
       "      <td>No</td>\n",
       "      <td>3</td>\n",
       "      <td>Self Employed</td>\n",
       "      <td>10</td>\n",
       "      <td>49000</td>\n",
       "      <td>Own</td>\n",
       "      <td>0</td>\n",
       "      <td>3835</td>\n",
       "      <td>Defaulted</td>\n",
       "      <td>0.002608</td>\n",
       "    </tr>\n",
       "  </tbody>\n",
       "</table>\n",
       "</div>"
      ],
      "text/plain": [
       "         Age Current Customer  Years at address Employment status  \\\n",
       "759856    60              Yes                 4     Self Employed   \n",
       "810444    24              Yes                 7     Self Employed   \n",
       "767192    34               No                 5        Unemployed   \n",
       "808753    52              Yes                 2          Employed   \n",
       "1037992   42               No                 3     Self Employed   \n",
       "\n",
       "         Current debt  Income Own home  CCJs  Loan amount    Outcome  \\\n",
       "759856           2900   22500      Own     1        15725       Paid   \n",
       "810444           5130   38000      Own     0        35911       Paid   \n",
       "767192           6530   41500      Own     2         6874       Paid   \n",
       "808753            930   32500      Own     0         5412       Paid   \n",
       "1037992            10   49000      Own     0         3835  Defaulted   \n",
       "\n",
       "         Debt to loan  \n",
       "759856       0.184420  \n",
       "810444       0.142853  \n",
       "767192       0.949956  \n",
       "808753       0.171840  \n",
       "1037992      0.002608  "
      ]
     },
     "metadata": {},
     "output_type": "display_data"
    }
   ],
   "source": [
    "loans.drop(123456, inplace=True)\n",
    "display(loans.tail())"
   ]
  },
  {
   "cell_type": "markdown",
   "metadata": {
    "slideshow": {
     "slide_type": "skip"
    }
   },
   "source": [
    "Look at the last row there, with customer ID 1037992. Let's update that so that they have paid the loan."
   ]
  },
  {
   "cell_type": "code",
   "execution_count": 58,
   "metadata": {
    "slideshow": {
     "slide_type": "slide"
    }
   },
   "outputs": [
    {
     "data": {
      "text/html": [
       "<div>\n",
       "<style scoped>\n",
       "    .dataframe tbody tr th:only-of-type {\n",
       "        vertical-align: middle;\n",
       "    }\n",
       "\n",
       "    .dataframe tbody tr th {\n",
       "        vertical-align: top;\n",
       "    }\n",
       "\n",
       "    .dataframe thead th {\n",
       "        text-align: right;\n",
       "    }\n",
       "</style>\n",
       "<table border=\"1\" class=\"dataframe\">\n",
       "  <thead>\n",
       "    <tr style=\"text-align: right;\">\n",
       "      <th></th>\n",
       "      <th>Age</th>\n",
       "      <th>Current Customer</th>\n",
       "      <th>Years at address</th>\n",
       "      <th>Employment status</th>\n",
       "      <th>Current debt</th>\n",
       "      <th>Income</th>\n",
       "      <th>Own home</th>\n",
       "      <th>CCJs</th>\n",
       "      <th>Loan amount</th>\n",
       "      <th>Outcome</th>\n",
       "      <th>Debt to loan</th>\n",
       "    </tr>\n",
       "  </thead>\n",
       "  <tbody>\n",
       "    <tr>\n",
       "      <th>759856</th>\n",
       "      <td>60</td>\n",
       "      <td>Yes</td>\n",
       "      <td>4</td>\n",
       "      <td>Self Employed</td>\n",
       "      <td>2900</td>\n",
       "      <td>22500</td>\n",
       "      <td>Own</td>\n",
       "      <td>1</td>\n",
       "      <td>15725</td>\n",
       "      <td>Paid</td>\n",
       "      <td>0.184420</td>\n",
       "    </tr>\n",
       "    <tr>\n",
       "      <th>810444</th>\n",
       "      <td>24</td>\n",
       "      <td>Yes</td>\n",
       "      <td>7</td>\n",
       "      <td>Self Employed</td>\n",
       "      <td>5130</td>\n",
       "      <td>38000</td>\n",
       "      <td>Own</td>\n",
       "      <td>0</td>\n",
       "      <td>35911</td>\n",
       "      <td>Paid</td>\n",
       "      <td>0.142853</td>\n",
       "    </tr>\n",
       "    <tr>\n",
       "      <th>767192</th>\n",
       "      <td>34</td>\n",
       "      <td>No</td>\n",
       "      <td>5</td>\n",
       "      <td>Unemployed</td>\n",
       "      <td>6530</td>\n",
       "      <td>41500</td>\n",
       "      <td>Own</td>\n",
       "      <td>2</td>\n",
       "      <td>6874</td>\n",
       "      <td>Paid</td>\n",
       "      <td>0.949956</td>\n",
       "    </tr>\n",
       "    <tr>\n",
       "      <th>808753</th>\n",
       "      <td>52</td>\n",
       "      <td>Yes</td>\n",
       "      <td>2</td>\n",
       "      <td>Employed</td>\n",
       "      <td>930</td>\n",
       "      <td>32500</td>\n",
       "      <td>Own</td>\n",
       "      <td>0</td>\n",
       "      <td>5412</td>\n",
       "      <td>Paid</td>\n",
       "      <td>0.171840</td>\n",
       "    </tr>\n",
       "    <tr>\n",
       "      <th>1037992</th>\n",
       "      <td>42</td>\n",
       "      <td>No</td>\n",
       "      <td>3</td>\n",
       "      <td>Self Employed</td>\n",
       "      <td>10</td>\n",
       "      <td>49000</td>\n",
       "      <td>Own</td>\n",
       "      <td>0</td>\n",
       "      <td>3835</td>\n",
       "      <td>Paid</td>\n",
       "      <td>0.002608</td>\n",
       "    </tr>\n",
       "  </tbody>\n",
       "</table>\n",
       "</div>"
      ],
      "text/plain": [
       "         Age Current Customer  Years at address Employment status  \\\n",
       "759856    60              Yes                 4     Self Employed   \n",
       "810444    24              Yes                 7     Self Employed   \n",
       "767192    34               No                 5        Unemployed   \n",
       "808753    52              Yes                 2          Employed   \n",
       "1037992   42               No                 3     Self Employed   \n",
       "\n",
       "         Current debt  Income Own home  CCJs  Loan amount Outcome  \\\n",
       "759856           2900   22500      Own     1        15725    Paid   \n",
       "810444           5130   38000      Own     0        35911    Paid   \n",
       "767192           6530   41500      Own     2         6874    Paid   \n",
       "808753            930   32500      Own     0         5412    Paid   \n",
       "1037992            10   49000      Own     0         3835    Paid   \n",
       "\n",
       "         Debt to loan  \n",
       "759856       0.184420  \n",
       "810444       0.142853  \n",
       "767192       0.949956  \n",
       "808753       0.171840  \n",
       "1037992      0.002608  "
      ]
     },
     "metadata": {},
     "output_type": "display_data"
    }
   ],
   "source": [
    "loans.loc[1037992,'Outcome'] = 'Paid'\n",
    "display(loans.tail())"
   ]
  },
  {
   "cell_type": "markdown",
   "metadata": {
    "slideshow": {
     "slide_type": "skip"
    }
   },
   "source": [
    "Finally, let's take a look at the Current Customer column. What values does it contain?"
   ]
  },
  {
   "cell_type": "code",
   "execution_count": 59,
   "metadata": {
    "slideshow": {
     "slide_type": "slide"
    }
   },
   "outputs": [
    {
     "data": {
      "text/plain": [
       "array(['Yes', 'No', 'N', 'H', 'Y', '1', '0'], dtype=object)"
      ]
     },
     "execution_count": 59,
     "metadata": {},
     "output_type": "execute_result"
    }
   ],
   "source": [
    "loans['Current Customer'].unique()"
   ]
  },
  {
   "cell_type": "markdown",
   "metadata": {
    "slideshow": {
     "slide_type": "skip"
    }
   },
   "source": [
    "It should only contain Yes or No, so let's use Pandas to fix those problems. We will assume Y means Yes and N means No, so we need to do a search and replace. We can do both of those in a single function call using a dictionary to define what to find and what to replace them with."
   ]
  },
  {
   "cell_type": "code",
   "execution_count": 60,
   "metadata": {
    "slideshow": {
     "slide_type": "slide"
    }
   },
   "outputs": [],
   "source": [
    "loans['Current Customer'] = loans['Current Customer'].replace({'Y':'Yes','N':'No'})"
   ]
  },
  {
   "cell_type": "markdown",
   "metadata": {
    "slideshow": {
     "slide_type": "skip"
    }
   },
   "source": [
    "Then we use a conditional select to keep only those rows that contain Yes or No in the Current Customer field, and ask again for the unique values of that column."
   ]
  },
  {
   "cell_type": "code",
   "execution_count": 61,
   "metadata": {
    "slideshow": {
     "slide_type": "slide"
    }
   },
   "outputs": [
    {
     "data": {
      "text/plain": [
       "array(['Yes', 'No'], dtype=object)"
      ]
     },
     "execution_count": 61,
     "metadata": {},
     "output_type": "execute_result"
    }
   ],
   "source": [
    "loans=loans.loc[loans['Current Customer'].isin(['Yes','No'])]\n",
    "loans['Current Customer'].unique()"
   ]
  },
  {
   "cell_type": "markdown",
   "metadata": {
    "slideshow": {
     "slide_type": "skip"
    }
   },
   "source": [
    "Perfect. Now all we need to do is save our new data back to a csv file and we are done."
   ]
  },
  {
   "cell_type": "code",
   "execution_count": 62,
   "metadata": {
    "slideshow": {
     "slide_type": "slide"
    }
   },
   "outputs": [],
   "source": [
    "loans.to_csv(\"data/fixedloans.csv\", index_label=\"CustomerID\")"
   ]
  },
  {
   "cell_type": "markdown",
   "metadata": {
    "slideshow": {
     "slide_type": "skip"
    }
   },
   "source": [
    "So now you can perform some simple manipulations on data frames using Pandas. You can add and remove rows and columns, replace values and list the uniques values a column contains."
   ]
  },
  {
   "cell_type": "markdown",
   "metadata": {
    "slideshow": {
     "slide_type": "skip"
    }
   },
   "source": [
    "## Aggregation\n",
    "The term aggregation refers to any activity that involves summarising  or bringing together data in some way, usually for statistical or analytical purposes. Pandas has a great many aggregation functions, and we will take a look at some of them now. Perhaps the most simple, and the first function you should use if you have a new data set and you want some idea of its contents, is the function called describe. It describes certain statistics from the data frame you apply it to. Let's apply it to our loans data frame now."
   ]
  },
  {
   "cell_type": "markdown",
   "metadata": {
    "slideshow": {
     "slide_type": "slide"
    }
   },
   "source": [
    "# Aggregation in Pandas"
   ]
  },
  {
   "cell_type": "code",
   "execution_count": 63,
   "metadata": {
    "slideshow": {
     "slide_type": "slide"
    }
   },
   "outputs": [
    {
     "data": {
      "text/html": [
       "<div>\n",
       "<style scoped>\n",
       "    .dataframe tbody tr th:only-of-type {\n",
       "        vertical-align: middle;\n",
       "    }\n",
       "\n",
       "    .dataframe tbody tr th {\n",
       "        vertical-align: top;\n",
       "    }\n",
       "\n",
       "    .dataframe thead th {\n",
       "        text-align: right;\n",
       "    }\n",
       "</style>\n",
       "<table border=\"1\" class=\"dataframe\">\n",
       "  <thead>\n",
       "    <tr style=\"text-align: right;\">\n",
       "      <th></th>\n",
       "      <th>Age</th>\n",
       "      <th>Years at address</th>\n",
       "      <th>Current debt</th>\n",
       "      <th>Income</th>\n",
       "      <th>CCJs</th>\n",
       "      <th>Loan amount</th>\n",
       "      <th>Debt to loan</th>\n",
       "    </tr>\n",
       "  </thead>\n",
       "  <tbody>\n",
       "    <tr>\n",
       "      <th>count</th>\n",
       "      <td>1995.000000</td>\n",
       "      <td>1995.000000</td>\n",
       "      <td>1995.000000</td>\n",
       "      <td>1995.000000</td>\n",
       "      <td>1995.000000</td>\n",
       "      <td>1995.000000</td>\n",
       "      <td>1995.000000</td>\n",
       "    </tr>\n",
       "    <tr>\n",
       "      <th>mean</th>\n",
       "      <td>52.953885</td>\n",
       "      <td>18.554386</td>\n",
       "      <td>3307.328321</td>\n",
       "      <td>38320.050125</td>\n",
       "      <td>1.049624</td>\n",
       "      <td>18951.178947</td>\n",
       "      <td>0.896531</td>\n",
       "    </tr>\n",
       "    <tr>\n",
       "      <th>std</th>\n",
       "      <td>20.982628</td>\n",
       "      <td>23.221739</td>\n",
       "      <td>2982.837960</td>\n",
       "      <td>12796.521084</td>\n",
       "      <td>2.470700</td>\n",
       "      <td>12857.600573</td>\n",
       "      <td>7.069443</td>\n",
       "    </tr>\n",
       "    <tr>\n",
       "      <th>min</th>\n",
       "      <td>17.000000</td>\n",
       "      <td>1.000000</td>\n",
       "      <td>0.000000</td>\n",
       "      <td>3000.000000</td>\n",
       "      <td>0.000000</td>\n",
       "      <td>13.000000</td>\n",
       "      <td>0.000000</td>\n",
       "    </tr>\n",
       "    <tr>\n",
       "      <th>25%</th>\n",
       "      <td>35.000000</td>\n",
       "      <td>5.000000</td>\n",
       "      <td>650.000000</td>\n",
       "      <td>30000.000000</td>\n",
       "      <td>0.000000</td>\n",
       "      <td>8012.000000</td>\n",
       "      <td>0.037181</td>\n",
       "    </tr>\n",
       "    <tr>\n",
       "      <th>50%</th>\n",
       "      <td>53.000000</td>\n",
       "      <td>13.000000</td>\n",
       "      <td>2440.000000</td>\n",
       "      <td>40000.000000</td>\n",
       "      <td>1.000000</td>\n",
       "      <td>17164.000000</td>\n",
       "      <td>0.148528</td>\n",
       "    </tr>\n",
       "    <tr>\n",
       "      <th>75%</th>\n",
       "      <td>70.500000</td>\n",
       "      <td>28.000000</td>\n",
       "      <td>5520.000000</td>\n",
       "      <td>48000.000000</td>\n",
       "      <td>2.000000</td>\n",
       "      <td>27933.500000</td>\n",
       "      <td>0.382778</td>\n",
       "    </tr>\n",
       "    <tr>\n",
       "      <th>max</th>\n",
       "      <td>89.000000</td>\n",
       "      <td>560.000000</td>\n",
       "      <td>9980.000000</td>\n",
       "      <td>220000.000000</td>\n",
       "      <td>100.000000</td>\n",
       "      <td>54455.000000</td>\n",
       "      <td>224.000000</td>\n",
       "    </tr>\n",
       "  </tbody>\n",
       "</table>\n",
       "</div>"
      ],
      "text/plain": [
       "               Age  Years at address  Current debt         Income  \\\n",
       "count  1995.000000       1995.000000   1995.000000    1995.000000   \n",
       "mean     52.953885         18.554386   3307.328321   38320.050125   \n",
       "std      20.982628         23.221739   2982.837960   12796.521084   \n",
       "min      17.000000          1.000000      0.000000    3000.000000   \n",
       "25%      35.000000          5.000000    650.000000   30000.000000   \n",
       "50%      53.000000         13.000000   2440.000000   40000.000000   \n",
       "75%      70.500000         28.000000   5520.000000   48000.000000   \n",
       "max      89.000000        560.000000   9980.000000  220000.000000   \n",
       "\n",
       "              CCJs   Loan amount  Debt to loan  \n",
       "count  1995.000000   1995.000000   1995.000000  \n",
       "mean      1.049624  18951.178947      0.896531  \n",
       "std       2.470700  12857.600573      7.069443  \n",
       "min       0.000000     13.000000      0.000000  \n",
       "25%       0.000000   8012.000000      0.037181  \n",
       "50%       1.000000  17164.000000      0.148528  \n",
       "75%       2.000000  27933.500000      0.382778  \n",
       "max     100.000000  54455.000000    224.000000  "
      ]
     },
     "metadata": {},
     "output_type": "display_data"
    }
   ],
   "source": [
    "display(loans.describe())"
   ]
  },
  {
   "cell_type": "markdown",
   "metadata": {
    "slideshow": {
     "slide_type": "skip"
    }
   },
   "source": [
    "Here you can see that what is returned by describe is itself a dataframe, with a column for each numeric variable in the loans data frame and rows describing various statistics for each column. There is a count, then mean, standard deviation, minimum, three quartiles, and the maximum."
   ]
  },
  {
   "cell_type": "markdown",
   "metadata": {
    "slideshow": {
     "slide_type": "skip"
    }
   },
   "source": [
    "What about the columns that contain none numeric data? We can find the unique values of each one by name, like this"
   ]
  },
  {
   "cell_type": "code",
   "execution_count": 64,
   "metadata": {
    "slideshow": {
     "slide_type": "slide"
    }
   },
   "outputs": [
    {
     "name": "stdout",
     "output_type": "stream",
     "text": [
      "['Yes' 'No']\n"
     ]
    }
   ],
   "source": [
    "print(loans['Current Customer'].unique())"
   ]
  },
  {
   "cell_type": "markdown",
   "metadata": {
    "slideshow": {
     "slide_type": "skip"
    }
   },
   "source": [
    "The categorical variables also allow us to perform a very common type of aggregation in which the same calculation is made for all the data associated with each unique value a chosen field takes. If you have used SQL to query a database, you have probably come across an operator known as group by. Pandas has exactly the same operator. When used, it groups the data by one variable and calculates the same aggregation for each of the resulting groups. For example, if I want to know how many of the customers in the loans file have each of the possible values for home ownership, I group by Own Home and then do a count. Let's do that now."
   ]
  },
  {
   "cell_type": "code",
   "execution_count": 65,
   "metadata": {
    "scrolled": true,
    "slideshow": {
     "slide_type": "slide"
    }
   },
   "outputs": [
    {
     "data": {
      "text/plain": [
       "Own home\n",
       "Mortgage     675\n",
       "Own         1030\n",
       "Rent         290\n",
       "Name: Own home, dtype: int64"
      ]
     },
     "metadata": {},
     "output_type": "display_data"
    }
   ],
   "source": [
    "display(loans.groupby('Own home')['Own home'].count())"
   ]
  },
  {
   "cell_type": "markdown",
   "metadata": {
    "slideshow": {
     "slide_type": "skip"
    }
   },
   "source": [
    "There we see the values that field can take - Mortgage, Own or Rent along with how often each occurs - the count of that group. We do not have to make the aggregation on the same column that we group by. Here we calculate the average income of people in each of the possible home ownership classes."
   ]
  },
  {
   "cell_type": "code",
   "execution_count": 66,
   "metadata": {
    "slideshow": {
     "slide_type": "fragment"
    }
   },
   "outputs": [
    {
     "data": {
      "text/plain": [
       "Own home\n",
       "Mortgage    38731.851852\n",
       "Own         37664.077670\n",
       "Rent        39691.379310\n",
       "Name: Income, dtype: float64"
      ]
     },
     "metadata": {},
     "output_type": "display_data"
    }
   ],
   "source": [
    "display(loans.groupby('Own home')['Income'].mean())"
   ]
  },
  {
   "cell_type": "markdown",
   "metadata": {
    "slideshow": {
     "slide_type": "skip"
    }
   },
   "source": [
    "Let's look at that code for a moment. The Group By method is given one argument - the name of the column to group on. From that result, the Income column is extracted and the mean is calculated. Take some time now and try some other aggregations on this data. Change the columns that you group by and the calculations you make. You can try mean, like we did here, or sum or count. To calcuate a variance, use the method called var - that is spelled V A R. You can find more about the aggregation functions on the Pandas help pages online."
   ]
  },
  {
   "cell_type": "markdown",
   "metadata": {
    "slideshow": {
     "slide_type": "skip"
    }
   },
   "source": [
    "## Multi Level Indexes\n",
    "I mentioned earlier that rows could have an index associated with them. The index we chose for the loans data was the customer ID. In this case, the index was unique - each customer appeared once in the data and the index was used to identify the customer. This is a good use of an index, but it is not the only use. You can think of indexes as being about the data in a row, rather than being data iteself. Customer ID is about the the data because it identifies it. Indexes do not have to be unique, however and what is more, a data frame can have more than one index.\n",
    "\n",
    "Let's load some new data, this time about sales made by region and month. The file only has three columns, Region, Month and a sales figure. Let's load it and take a look. The only new bit of code here is that we use a list to specify that the index columns are the first and second in the file."
   ]
  },
  {
   "cell_type": "markdown",
   "metadata": {
    "slideshow": {
     "slide_type": "slide"
    }
   },
   "source": [
    "# Multi Level Indexes"
   ]
  },
  {
   "cell_type": "code",
   "execution_count": 67,
   "metadata": {
    "slideshow": {
     "slide_type": "slide"
    }
   },
   "outputs": [
    {
     "data": {
      "text/html": [
       "<div>\n",
       "<style scoped>\n",
       "    .dataframe tbody tr th:only-of-type {\n",
       "        vertical-align: middle;\n",
       "    }\n",
       "\n",
       "    .dataframe tbody tr th {\n",
       "        vertical-align: top;\n",
       "    }\n",
       "\n",
       "    .dataframe thead th {\n",
       "        text-align: right;\n",
       "    }\n",
       "</style>\n",
       "<table border=\"1\" class=\"dataframe\">\n",
       "  <thead>\n",
       "    <tr style=\"text-align: right;\">\n",
       "      <th></th>\n",
       "      <th></th>\n",
       "      <th>Sales</th>\n",
       "    </tr>\n",
       "    <tr>\n",
       "      <th>Region</th>\n",
       "      <th>Month</th>\n",
       "      <th></th>\n",
       "    </tr>\n",
       "  </thead>\n",
       "  <tbody>\n",
       "    <tr>\n",
       "      <th rowspan=\"5\" valign=\"top\">USA</th>\n",
       "      <th>January</th>\n",
       "      <td>163</td>\n",
       "    </tr>\n",
       "    <tr>\n",
       "      <th>February</th>\n",
       "      <td>190</td>\n",
       "    </tr>\n",
       "    <tr>\n",
       "      <th>March</th>\n",
       "      <td>148</td>\n",
       "    </tr>\n",
       "    <tr>\n",
       "      <th>April</th>\n",
       "      <td>163</td>\n",
       "    </tr>\n",
       "    <tr>\n",
       "      <th>May</th>\n",
       "      <td>114</td>\n",
       "    </tr>\n",
       "  </tbody>\n",
       "</table>\n",
       "</div>"
      ],
      "text/plain": [
       "                 Sales\n",
       "Region Month          \n",
       "USA    January     163\n",
       "       February    190\n",
       "       March       148\n",
       "       April       163\n",
       "       May         114"
      ]
     },
     "execution_count": 67,
     "metadata": {},
     "output_type": "execute_result"
    }
   ],
   "source": [
    "sales=pd.read_csv('data\\sales.csv',index_col=[0,1])\n",
    "sales.head()"
   ]
  },
  {
   "cell_type": "markdown",
   "metadata": {
    "slideshow": {
     "slide_type": "skip"
    }
   },
   "source": [
    "There you can see the data are presented with two indexes - Region and Month. Now we can access the data associated with any value in the top level index just as we did before, using that value as the key. Here we extract all the sales data for the USA region."
   ]
  },
  {
   "cell_type": "code",
   "execution_count": 68,
   "metadata": {
    "slideshow": {
     "slide_type": "slide"
    }
   },
   "outputs": [
    {
     "data": {
      "text/html": [
       "<div>\n",
       "<style scoped>\n",
       "    .dataframe tbody tr th:only-of-type {\n",
       "        vertical-align: middle;\n",
       "    }\n",
       "\n",
       "    .dataframe tbody tr th {\n",
       "        vertical-align: top;\n",
       "    }\n",
       "\n",
       "    .dataframe thead th {\n",
       "        text-align: right;\n",
       "    }\n",
       "</style>\n",
       "<table border=\"1\" class=\"dataframe\">\n",
       "  <thead>\n",
       "    <tr style=\"text-align: right;\">\n",
       "      <th></th>\n",
       "      <th>Sales</th>\n",
       "    </tr>\n",
       "    <tr>\n",
       "      <th>Month</th>\n",
       "      <th></th>\n",
       "    </tr>\n",
       "  </thead>\n",
       "  <tbody>\n",
       "    <tr>\n",
       "      <th>January</th>\n",
       "      <td>163</td>\n",
       "    </tr>\n",
       "    <tr>\n",
       "      <th>February</th>\n",
       "      <td>190</td>\n",
       "    </tr>\n",
       "    <tr>\n",
       "      <th>March</th>\n",
       "      <td>148</td>\n",
       "    </tr>\n",
       "    <tr>\n",
       "      <th>April</th>\n",
       "      <td>163</td>\n",
       "    </tr>\n",
       "    <tr>\n",
       "      <th>May</th>\n",
       "      <td>114</td>\n",
       "    </tr>\n",
       "    <tr>\n",
       "      <th>June</th>\n",
       "      <td>182</td>\n",
       "    </tr>\n",
       "    <tr>\n",
       "      <th>July</th>\n",
       "      <td>167</td>\n",
       "    </tr>\n",
       "    <tr>\n",
       "      <th>August</th>\n",
       "      <td>142</td>\n",
       "    </tr>\n",
       "    <tr>\n",
       "      <th>September</th>\n",
       "      <td>169</td>\n",
       "    </tr>\n",
       "    <tr>\n",
       "      <th>October</th>\n",
       "      <td>107</td>\n",
       "    </tr>\n",
       "    <tr>\n",
       "      <th>November</th>\n",
       "      <td>104</td>\n",
       "    </tr>\n",
       "    <tr>\n",
       "      <th>December</th>\n",
       "      <td>180</td>\n",
       "    </tr>\n",
       "  </tbody>\n",
       "</table>\n",
       "</div>"
      ],
      "text/plain": [
       "           Sales\n",
       "Month           \n",
       "January      163\n",
       "February     190\n",
       "March        148\n",
       "April        163\n",
       "May          114\n",
       "June         182\n",
       "July         167\n",
       "August       142\n",
       "September    169\n",
       "October      107\n",
       "November     104\n",
       "December     180"
      ]
     },
     "metadata": {},
     "output_type": "display_data"
    }
   ],
   "source": [
    "display(sales.loc['USA'])"
   ]
  },
  {
   "cell_type": "markdown",
   "metadata": {
    "slideshow": {
     "slide_type": "skip"
    }
   },
   "source": [
    "You won't be surprised to see that we access a selection across two levels of index by listing the values in order. Here we extract USA sales figures for August."
   ]
  },
  {
   "cell_type": "code",
   "execution_count": 69,
   "metadata": {
    "slideshow": {
     "slide_type": "fragment"
    }
   },
   "outputs": [
    {
     "data": {
      "text/plain": [
       "Sales    142\n",
       "Name: (USA, August), dtype: int64"
      ]
     },
     "metadata": {},
     "output_type": "display_data"
    }
   ],
   "source": [
    "display(sales.loc['USA','August'])"
   ]
  },
  {
   "cell_type": "markdown",
   "metadata": {
    "slideshow": {
     "slide_type": "skip"
    }
   },
   "source": [
    "Slicing does not work in the same way for indexes as it does for other data we have seen, however. To select a cross section of the data using lower levels of index, we use the xs function - short for cross section. Here we access the cross section of data that have the value of August at the level 1 index. Index levels start at zero, of course."
   ]
  },
  {
   "cell_type": "code",
   "execution_count": 70,
   "metadata": {
    "slideshow": {
     "slide_type": "slide"
    }
   },
   "outputs": [
    {
     "data": {
      "text/html": [
       "<div>\n",
       "<style scoped>\n",
       "    .dataframe tbody tr th:only-of-type {\n",
       "        vertical-align: middle;\n",
       "    }\n",
       "\n",
       "    .dataframe tbody tr th {\n",
       "        vertical-align: top;\n",
       "    }\n",
       "\n",
       "    .dataframe thead th {\n",
       "        text-align: right;\n",
       "    }\n",
       "</style>\n",
       "<table border=\"1\" class=\"dataframe\">\n",
       "  <thead>\n",
       "    <tr style=\"text-align: right;\">\n",
       "      <th></th>\n",
       "      <th>Sales</th>\n",
       "    </tr>\n",
       "    <tr>\n",
       "      <th>Region</th>\n",
       "      <th></th>\n",
       "    </tr>\n",
       "  </thead>\n",
       "  <tbody>\n",
       "    <tr>\n",
       "      <th>USA</th>\n",
       "      <td>142</td>\n",
       "    </tr>\n",
       "    <tr>\n",
       "      <th>Europe</th>\n",
       "      <td>126</td>\n",
       "    </tr>\n",
       "    <tr>\n",
       "      <th>ASIA</th>\n",
       "      <td>165</td>\n",
       "    </tr>\n",
       "  </tbody>\n",
       "</table>\n",
       "</div>"
      ],
      "text/plain": [
       "        Sales\n",
       "Region       \n",
       "USA       142\n",
       "Europe    126\n",
       "ASIA      165"
      ]
     },
     "metadata": {},
     "output_type": "display_data"
    }
   ],
   "source": [
    "display(sales.xs('August', level=1))"
   ]
  },
  {
   "cell_type": "markdown",
   "metadata": {
    "slideshow": {
     "slide_type": "skip"
    }
   },
   "source": [
    "Another way to bring together data that are defined by a common index value is to unstack them. That means turning the chosen index level into a set of columns. Here are both the possible ways of unstacking our example sales data. First we unstack by month. "
   ]
  },
  {
   "cell_type": "code",
   "execution_count": 71,
   "metadata": {
    "slideshow": {
     "slide_type": "slide"
    }
   },
   "outputs": [
    {
     "data": {
      "text/html": [
       "<div>\n",
       "<style scoped>\n",
       "    .dataframe tbody tr th:only-of-type {\n",
       "        vertical-align: middle;\n",
       "    }\n",
       "\n",
       "    .dataframe tbody tr th {\n",
       "        vertical-align: top;\n",
       "    }\n",
       "\n",
       "    .dataframe thead tr th {\n",
       "        text-align: left;\n",
       "    }\n",
       "\n",
       "    .dataframe thead tr:last-of-type th {\n",
       "        text-align: right;\n",
       "    }\n",
       "</style>\n",
       "<table border=\"1\" class=\"dataframe\">\n",
       "  <thead>\n",
       "    <tr>\n",
       "      <th></th>\n",
       "      <th colspan=\"12\" halign=\"left\">Sales</th>\n",
       "    </tr>\n",
       "    <tr>\n",
       "      <th>Month</th>\n",
       "      <th>April</th>\n",
       "      <th>August</th>\n",
       "      <th>December</th>\n",
       "      <th>February</th>\n",
       "      <th>January</th>\n",
       "      <th>July</th>\n",
       "      <th>June</th>\n",
       "      <th>March</th>\n",
       "      <th>May</th>\n",
       "      <th>November</th>\n",
       "      <th>October</th>\n",
       "      <th>September</th>\n",
       "    </tr>\n",
       "    <tr>\n",
       "      <th>Region</th>\n",
       "      <th></th>\n",
       "      <th></th>\n",
       "      <th></th>\n",
       "      <th></th>\n",
       "      <th></th>\n",
       "      <th></th>\n",
       "      <th></th>\n",
       "      <th></th>\n",
       "      <th></th>\n",
       "      <th></th>\n",
       "      <th></th>\n",
       "      <th></th>\n",
       "    </tr>\n",
       "  </thead>\n",
       "  <tbody>\n",
       "    <tr>\n",
       "      <th>ASIA</th>\n",
       "      <td>144</td>\n",
       "      <td>165</td>\n",
       "      <td>111</td>\n",
       "      <td>181</td>\n",
       "      <td>194</td>\n",
       "      <td>156</td>\n",
       "      <td>196</td>\n",
       "      <td>194</td>\n",
       "      <td>127</td>\n",
       "      <td>196</td>\n",
       "      <td>151</td>\n",
       "      <td>105</td>\n",
       "    </tr>\n",
       "    <tr>\n",
       "      <th>Europe</th>\n",
       "      <td>191</td>\n",
       "      <td>126</td>\n",
       "      <td>124</td>\n",
       "      <td>176</td>\n",
       "      <td>122</td>\n",
       "      <td>156</td>\n",
       "      <td>197</td>\n",
       "      <td>182</td>\n",
       "      <td>147</td>\n",
       "      <td>115</td>\n",
       "      <td>163</td>\n",
       "      <td>183</td>\n",
       "    </tr>\n",
       "    <tr>\n",
       "      <th>USA</th>\n",
       "      <td>163</td>\n",
       "      <td>142</td>\n",
       "      <td>180</td>\n",
       "      <td>190</td>\n",
       "      <td>163</td>\n",
       "      <td>167</td>\n",
       "      <td>182</td>\n",
       "      <td>148</td>\n",
       "      <td>114</td>\n",
       "      <td>104</td>\n",
       "      <td>107</td>\n",
       "      <td>169</td>\n",
       "    </tr>\n",
       "  </tbody>\n",
       "</table>\n",
       "</div>"
      ],
      "text/plain": [
       "       Sales                                                                 \\\n",
       "Month  April August December February January July June March  May November   \n",
       "Region                                                                        \n",
       "ASIA     144    165      111      181     194  156  196   194  127      196   \n",
       "Europe   191    126      124      176     122  156  197   182  147      115   \n",
       "USA      163    142      180      190     163  167  182   148  114      104   \n",
       "\n",
       "                          \n",
       "Month  October September  \n",
       "Region                    \n",
       "ASIA       151       105  \n",
       "Europe     163       183  \n",
       "USA        107       169  "
      ]
     },
     "execution_count": 71,
     "metadata": {},
     "output_type": "execute_result"
    }
   ],
   "source": [
    "sales.unstack('Month')"
   ]
  },
  {
   "cell_type": "markdown",
   "metadata": {
    "slideshow": {
     "slide_type": "skip"
    }
   },
   "source": [
    "See how the months are now columns and the other index, Region, is now the only remaining index. We can also unstack by Region, like this"
   ]
  },
  {
   "cell_type": "code",
   "execution_count": 72,
   "metadata": {
    "slideshow": {
     "slide_type": "slide"
    }
   },
   "outputs": [
    {
     "data": {
      "text/html": [
       "<div>\n",
       "<style scoped>\n",
       "    .dataframe tbody tr th:only-of-type {\n",
       "        vertical-align: middle;\n",
       "    }\n",
       "\n",
       "    .dataframe tbody tr th {\n",
       "        vertical-align: top;\n",
       "    }\n",
       "\n",
       "    .dataframe thead tr th {\n",
       "        text-align: left;\n",
       "    }\n",
       "\n",
       "    .dataframe thead tr:last-of-type th {\n",
       "        text-align: right;\n",
       "    }\n",
       "</style>\n",
       "<table border=\"1\" class=\"dataframe\">\n",
       "  <thead>\n",
       "    <tr>\n",
       "      <th></th>\n",
       "      <th colspan=\"3\" halign=\"left\">Sales</th>\n",
       "    </tr>\n",
       "    <tr>\n",
       "      <th>Region</th>\n",
       "      <th>ASIA</th>\n",
       "      <th>Europe</th>\n",
       "      <th>USA</th>\n",
       "    </tr>\n",
       "    <tr>\n",
       "      <th>Month</th>\n",
       "      <th></th>\n",
       "      <th></th>\n",
       "      <th></th>\n",
       "    </tr>\n",
       "  </thead>\n",
       "  <tbody>\n",
       "    <tr>\n",
       "      <th>April</th>\n",
       "      <td>144</td>\n",
       "      <td>191</td>\n",
       "      <td>163</td>\n",
       "    </tr>\n",
       "    <tr>\n",
       "      <th>August</th>\n",
       "      <td>165</td>\n",
       "      <td>126</td>\n",
       "      <td>142</td>\n",
       "    </tr>\n",
       "    <tr>\n",
       "      <th>December</th>\n",
       "      <td>111</td>\n",
       "      <td>124</td>\n",
       "      <td>180</td>\n",
       "    </tr>\n",
       "    <tr>\n",
       "      <th>February</th>\n",
       "      <td>181</td>\n",
       "      <td>176</td>\n",
       "      <td>190</td>\n",
       "    </tr>\n",
       "    <tr>\n",
       "      <th>January</th>\n",
       "      <td>194</td>\n",
       "      <td>122</td>\n",
       "      <td>163</td>\n",
       "    </tr>\n",
       "    <tr>\n",
       "      <th>July</th>\n",
       "      <td>156</td>\n",
       "      <td>156</td>\n",
       "      <td>167</td>\n",
       "    </tr>\n",
       "    <tr>\n",
       "      <th>June</th>\n",
       "      <td>196</td>\n",
       "      <td>197</td>\n",
       "      <td>182</td>\n",
       "    </tr>\n",
       "    <tr>\n",
       "      <th>March</th>\n",
       "      <td>194</td>\n",
       "      <td>182</td>\n",
       "      <td>148</td>\n",
       "    </tr>\n",
       "    <tr>\n",
       "      <th>May</th>\n",
       "      <td>127</td>\n",
       "      <td>147</td>\n",
       "      <td>114</td>\n",
       "    </tr>\n",
       "    <tr>\n",
       "      <th>November</th>\n",
       "      <td>196</td>\n",
       "      <td>115</td>\n",
       "      <td>104</td>\n",
       "    </tr>\n",
       "    <tr>\n",
       "      <th>October</th>\n",
       "      <td>151</td>\n",
       "      <td>163</td>\n",
       "      <td>107</td>\n",
       "    </tr>\n",
       "    <tr>\n",
       "      <th>September</th>\n",
       "      <td>105</td>\n",
       "      <td>183</td>\n",
       "      <td>169</td>\n",
       "    </tr>\n",
       "  </tbody>\n",
       "</table>\n",
       "</div>"
      ],
      "text/plain": [
       "          Sales            \n",
       "Region     ASIA Europe  USA\n",
       "Month                      \n",
       "April       144    191  163\n",
       "August      165    126  142\n",
       "December    111    124  180\n",
       "February    181    176  190\n",
       "January     194    122  163\n",
       "July        156    156  167\n",
       "June        196    197  182\n",
       "March       194    182  148\n",
       "May         127    147  114\n",
       "November    196    115  104\n",
       "October     151    163  107\n",
       "September   105    183  169"
      ]
     },
     "execution_count": 72,
     "metadata": {},
     "output_type": "execute_result"
    }
   ],
   "source": [
    "sales.unstack('Region')"
   ]
  },
  {
   "cell_type": "markdown",
   "metadata": {
    "slideshow": {
     "slide_type": "skip"
    }
   },
   "source": [
    "Now you can see the regions have become column headings and the month is the index value. Of course, we can access rows from this in the usual way, so we can see the series of sales by month from Europe like this."
   ]
  },
  {
   "cell_type": "code",
   "execution_count": 73,
   "metadata": {
    "slideshow": {
     "slide_type": "slide"
    }
   },
   "outputs": [
    {
     "data": {
      "text/plain": [
       "       Month    \n",
       "Sales  April        191\n",
       "       August       126\n",
       "       December     124\n",
       "       February     176\n",
       "       January      122\n",
       "       July         156\n",
       "       June         197\n",
       "       March        182\n",
       "       May          147\n",
       "       November     115\n",
       "       October      163\n",
       "       September    183\n",
       "Name: Europe, dtype: int64"
      ]
     },
     "execution_count": 73,
     "metadata": {},
     "output_type": "execute_result"
    }
   ],
   "source": [
    "sales.unstack('Month').loc['Europe']"
   ]
  },
  {
   "cell_type": "markdown",
   "metadata": {
    "slideshow": {
     "slide_type": "skip"
    }
   },
   "source": [
    "Now you can use multi-level indexing. Do you remember, way back at the start of this module, I talked about attributes being either data, or identifiers? I said, for example, that student number is an identifier but that student ages are data. Variables that are indentifiers should go in an index.\n",
    "\n",
    "Is there a rule for deciding whether something is an identifier or data? What about student name? That seems like an identifier, but does it have the properties we need in an identifier? Names are generally not unique - there are a lot of John Smiths in the world - which is why we need things like student numbers. A name is a property that somebody has, so in that sense it is better treated as an item of data, not an identifier.\n",
    "\n",
    "The best way to decide whether an attribute represents identifiers or data is to think about its function. Will it be used to organise, group or identify rows from the table? If so, it should be used as an indentifier.\n",
    "\n",
    "Obvious examples include things like student ID or bank account number, dates and times, locations or departments. Identifiers should also be immutable - they shouldn't change for the thing the identify. So your student number should be the same throughout your programme and June the 1st 2020 will always be June the 1st 2020.\n",
    "\n",
    "Setting the correct index columns makes your data processing more effcieint, so it is worth getting it right."
   ]
  },
  {
   "cell_type": "markdown",
   "metadata": {
    "slideshow": {
     "slide_type": "skip"
    }
   },
   "source": [
    "## Joining Tables in Pandas\n",
    "Now let's take a look at how to perfrom relational style joins between tables in Pandas. First we take a look at the three files we are going to use for the join. One contains a list of customers, one is a list of products and the third is a list of orders linking customers to products."
   ]
  },
  {
   "cell_type": "markdown",
   "metadata": {
    "slideshow": {
     "slide_type": "slide"
    }
   },
   "source": [
    "# Joining Tables in Pandas"
   ]
  },
  {
   "cell_type": "code",
   "execution_count": 74,
   "metadata": {
    "slideshow": {
     "slide_type": "slide"
    }
   },
   "outputs": [
    {
     "data": {
      "text/html": [
       "<div>\n",
       "<style scoped>\n",
       "    .dataframe tbody tr th:only-of-type {\n",
       "        vertical-align: middle;\n",
       "    }\n",
       "\n",
       "    .dataframe tbody tr th {\n",
       "        vertical-align: top;\n",
       "    }\n",
       "\n",
       "    .dataframe thead th {\n",
       "        text-align: right;\n",
       "    }\n",
       "</style>\n",
       "<table border=\"1\" class=\"dataframe\">\n",
       "  <thead>\n",
       "    <tr style=\"text-align: right;\">\n",
       "      <th></th>\n",
       "      <th>Name</th>\n",
       "    </tr>\n",
       "    <tr>\n",
       "      <th>Email</th>\n",
       "      <th></th>\n",
       "    </tr>\n",
       "  </thead>\n",
       "  <tbody>\n",
       "    <tr>\n",
       "      <th>john@gmail.com</th>\n",
       "      <td>John</td>\n",
       "    </tr>\n",
       "    <tr>\n",
       "      <th>sim23@gmail.com</th>\n",
       "      <td>Simone</td>\n",
       "    </tr>\n",
       "    <tr>\n",
       "      <th>Sally@gmail.com</th>\n",
       "      <td>Sally</td>\n",
       "    </tr>\n",
       "    <tr>\n",
       "      <th>Sandeep@gmail.com</th>\n",
       "      <td>Sandeep</td>\n",
       "    </tr>\n",
       "    <tr>\n",
       "      <th>Limail@gmail.com</th>\n",
       "      <td>Li</td>\n",
       "    </tr>\n",
       "  </tbody>\n",
       "</table>\n",
       "</div>"
      ],
      "text/plain": [
       "                      Name\n",
       "Email                     \n",
       "john@gmail.com        John\n",
       "sim23@gmail.com     Simone\n",
       "Sally@gmail.com      Sally\n",
       "Sandeep@gmail.com  Sandeep\n",
       "Limail@gmail.com        Li"
      ]
     },
     "metadata": {},
     "output_type": "display_data"
    }
   ],
   "source": [
    "customers=pd.read_csv(\"data/Customers.csv\", index_col=1)\n",
    "display(customers)"
   ]
  },
  {
   "cell_type": "code",
   "execution_count": 75,
   "metadata": {
    "slideshow": {
     "slide_type": "slide"
    }
   },
   "outputs": [
    {
     "data": {
      "text/html": [
       "<div>\n",
       "<style scoped>\n",
       "    .dataframe tbody tr th:only-of-type {\n",
       "        vertical-align: middle;\n",
       "    }\n",
       "\n",
       "    .dataframe tbody tr th {\n",
       "        vertical-align: top;\n",
       "    }\n",
       "\n",
       "    .dataframe thead th {\n",
       "        text-align: right;\n",
       "    }\n",
       "</style>\n",
       "<table border=\"1\" class=\"dataframe\">\n",
       "  <thead>\n",
       "    <tr style=\"text-align: right;\">\n",
       "      <th></th>\n",
       "      <th>Product_name</th>\n",
       "      <th>Type</th>\n",
       "      <th>Price</th>\n",
       "    </tr>\n",
       "    <tr>\n",
       "      <th>Product_ID</th>\n",
       "      <th></th>\n",
       "      <th></th>\n",
       "      <th></th>\n",
       "    </tr>\n",
       "  </thead>\n",
       "  <tbody>\n",
       "    <tr>\n",
       "      <th>FE4532</th>\n",
       "      <td>Fender Stratocaster</td>\n",
       "      <td>Guitar</td>\n",
       "      <td>399</td>\n",
       "    </tr>\n",
       "    <tr>\n",
       "      <th>MA56a</th>\n",
       "      <td>Marshall MG15</td>\n",
       "      <td>Amplifier</td>\n",
       "      <td>79</td>\n",
       "    </tr>\n",
       "    <tr>\n",
       "      <th>ROFP45</th>\n",
       "      <td>Roland FP30</td>\n",
       "      <td>Keyboard</td>\n",
       "      <td>490</td>\n",
       "    </tr>\n",
       "    <tr>\n",
       "      <th>GRM49</th>\n",
       "      <td>Gretsch Mini</td>\n",
       "      <td>Drum</td>\n",
       "      <td>280</td>\n",
       "    </tr>\n",
       "    <tr>\n",
       "      <th>TJ980</th>\n",
       "      <td>Trevor James TJ5X</td>\n",
       "      <td>Flute</td>\n",
       "      <td>240</td>\n",
       "    </tr>\n",
       "    <tr>\n",
       "      <th>PS541</th>\n",
       "      <td>Pulse Stand</td>\n",
       "      <td>Music Stand</td>\n",
       "      <td>17</td>\n",
       "    </tr>\n",
       "    <tr>\n",
       "      <th>YT665</th>\n",
       "      <td>Yamaha YTR2330</td>\n",
       "      <td>Trumpet</td>\n",
       "      <td>400</td>\n",
       "    </tr>\n",
       "  </tbody>\n",
       "</table>\n",
       "</div>"
      ],
      "text/plain": [
       "                   Product_name         Type  Price\n",
       "Product_ID                                         \n",
       "FE4532      Fender Stratocaster       Guitar    399\n",
       "MA56a             Marshall MG15    Amplifier     79\n",
       "ROFP45              Roland FP30     Keyboard    490\n",
       "GRM49              Gretsch Mini         Drum    280\n",
       "TJ980         Trevor James TJ5X        Flute    240\n",
       "PS541               Pulse Stand  Music Stand     17\n",
       "YT665            Yamaha YTR2330      Trumpet    400"
      ]
     },
     "metadata": {},
     "output_type": "display_data"
    }
   ],
   "source": [
    "products=pd.read_csv(\"data/Products.csv\", index_col=0)\n",
    "display(products)"
   ]
  },
  {
   "cell_type": "code",
   "execution_count": 76,
   "metadata": {
    "slideshow": {
     "slide_type": "slide"
    }
   },
   "outputs": [
    {
     "data": {
      "text/html": [
       "<div>\n",
       "<style scoped>\n",
       "    .dataframe tbody tr th:only-of-type {\n",
       "        vertical-align: middle;\n",
       "    }\n",
       "\n",
       "    .dataframe tbody tr th {\n",
       "        vertical-align: top;\n",
       "    }\n",
       "\n",
       "    .dataframe thead th {\n",
       "        text-align: right;\n",
       "    }\n",
       "</style>\n",
       "<table border=\"1\" class=\"dataframe\">\n",
       "  <thead>\n",
       "    <tr style=\"text-align: right;\">\n",
       "      <th></th>\n",
       "      <th>Email</th>\n",
       "      <th>Date</th>\n",
       "      <th>Product_ID</th>\n",
       "    </tr>\n",
       "    <tr>\n",
       "      <th>Order number</th>\n",
       "      <th></th>\n",
       "      <th></th>\n",
       "      <th></th>\n",
       "    </tr>\n",
       "  </thead>\n",
       "  <tbody>\n",
       "    <tr>\n",
       "      <th>1</th>\n",
       "      <td>john@gmail.com</td>\n",
       "      <td>23/05/2019</td>\n",
       "      <td>FE4532</td>\n",
       "    </tr>\n",
       "    <tr>\n",
       "      <th>2</th>\n",
       "      <td>john@gmail.com</td>\n",
       "      <td>04/06/2019</td>\n",
       "      <td>MA56a</td>\n",
       "    </tr>\n",
       "    <tr>\n",
       "      <th>3</th>\n",
       "      <td>john@gmail.com</td>\n",
       "      <td>01/02/2019</td>\n",
       "      <td>ROFP45</td>\n",
       "    </tr>\n",
       "    <tr>\n",
       "      <th>4</th>\n",
       "      <td>sim23@gmail.com</td>\n",
       "      <td>27/03/2019</td>\n",
       "      <td>GRM49</td>\n",
       "    </tr>\n",
       "    <tr>\n",
       "      <th>5</th>\n",
       "      <td>Sally@gmail.com</td>\n",
       "      <td>16/05/2019</td>\n",
       "      <td>TJ980</td>\n",
       "    </tr>\n",
       "    <tr>\n",
       "      <th>6</th>\n",
       "      <td>Limail@gmail.com</td>\n",
       "      <td>17/05/2019</td>\n",
       "      <td>ROFP45</td>\n",
       "    </tr>\n",
       "    <tr>\n",
       "      <th>7</th>\n",
       "      <td>Limail@gmail.com</td>\n",
       "      <td>18/05/2019</td>\n",
       "      <td>TJ980</td>\n",
       "    </tr>\n",
       "  </tbody>\n",
       "</table>\n",
       "</div>"
      ],
      "text/plain": [
       "                         Email        Date Product_ID\n",
       "Order number                                         \n",
       "1               john@gmail.com  23/05/2019     FE4532\n",
       "2               john@gmail.com  04/06/2019      MA56a\n",
       "3               john@gmail.com  01/02/2019     ROFP45\n",
       "4              sim23@gmail.com  27/03/2019      GRM49\n",
       "5              Sally@gmail.com  16/05/2019      TJ980\n",
       "6             Limail@gmail.com  17/05/2019     ROFP45\n",
       "7             Limail@gmail.com  18/05/2019      TJ980"
      ]
     },
     "metadata": {},
     "output_type": "display_data"
    }
   ],
   "source": [
    "orders=pd.read_csv(\"data/Orders.csv\", index_col=0)\n",
    "display(orders)"
   ]
  },
  {
   "cell_type": "markdown",
   "metadata": {
    "slideshow": {
     "slide_type": "skip"
    }
   },
   "source": [
    "So we are using email address as the index in customers, product ID in products and an order number to identify orders. Now, we can ask questions like \"What is the name of the person who made order number 1?\" Let's do that first. We can use the email address for order number one to look up the name in the Customers frame. First we look up the email address for order number 1. Order number is the index field, so we can use loc like this."
   ]
  },
  {
   "cell_type": "code",
   "execution_count": 77,
   "metadata": {
    "slideshow": {
     "slide_type": "slide"
    }
   },
   "outputs": [
    {
     "name": "stdout",
     "output_type": "stream",
     "text": [
      "john@gmail.com\n"
     ]
    }
   ],
   "source": [
    "email = orders.loc[1]['Email']\n",
    "print(email)"
   ]
  },
  {
   "cell_type": "markdown",
   "metadata": {
    "slideshow": {
     "slide_type": "skip"
    }
   },
   "source": [
    "Now we have the email address, we can look up the name in customers. In this frame, Email is the index, so we use loc again like this."
   ]
  },
  {
   "cell_type": "code",
   "execution_count": 78,
   "metadata": {
    "slideshow": {
     "slide_type": "slide"
    }
   },
   "outputs": [
    {
     "name": "stdout",
     "output_type": "stream",
     "text": [
      "John\n"
     ]
    }
   ],
   "source": [
    "print(customers.loc[email].Name)"
   ]
  },
  {
   "cell_type": "markdown",
   "metadata": {
    "slideshow": {
     "slide_type": "skip"
    }
   },
   "source": [
    "There it is, the customer name is John. What's more, we could combine that all in one line of code like this"
   ]
  },
  {
   "cell_type": "code",
   "execution_count": 79,
   "metadata": {
    "slideshow": {
     "slide_type": "slide"
    }
   },
   "outputs": [
    {
     "name": "stdout",
     "output_type": "stream",
     "text": [
      "John\n"
     ]
    }
   ],
   "source": [
    "print(customers.loc[orders.loc[1]['Email']].Name)"
   ]
  },
  {
   "cell_type": "markdown",
   "metadata": {
    "slideshow": {
     "slide_type": "skip"
    }
   },
   "source": [
    "Here is similar code to find the instrument that was bought in order number 4"
   ]
  },
  {
   "cell_type": "code",
   "execution_count": 80,
   "metadata": {
    "slideshow": {
     "slide_type": "slide"
    }
   },
   "outputs": [
    {
     "name": "stdout",
     "output_type": "stream",
     "text": [
      "Gretsch Mini\n"
     ]
    }
   ],
   "source": [
    "print(products.loc[orders.loc[4]['Product_ID']].Product_name)"
   ]
  },
  {
   "cell_type": "markdown",
   "metadata": {
    "slideshow": {
     "slide_type": "skip"
    }
   },
   "source": [
    "If the columns we want to search for are not indexed, we need to search rather than use loc. Let's answer the question, \"What are the product names of all the things bought by the person with email address john@gmail.com?\". First, I find all the rows from orders where the email address is the one we want"
   ]
  },
  {
   "cell_type": "code",
   "execution_count": 81,
   "metadata": {
    "slideshow": {
     "slide_type": "slide"
    }
   },
   "outputs": [
    {
     "name": "stdout",
     "output_type": "stream",
     "text": [
      "Order number\n",
      "1    FE4532\n",
      "2     MA56a\n",
      "3    ROFP45\n",
      "Name: Product_ID, dtype: object\n"
     ]
    }
   ],
   "source": [
    "prods = orders[orders['Email']==\"john@gmail.com\"].Product_ID\n",
    "print(prods)\n"
   ]
  },
  {
   "cell_type": "markdown",
   "metadata": {
    "slideshow": {
     "slide_type": "skip"
    }
   },
   "source": [
    "Now I have a Pandas series containing the product codes, which I can use to look up each index value in products. I can do this in an elegant way"
   ]
  },
  {
   "cell_type": "code",
   "execution_count": 82,
   "metadata": {
    "slideshow": {
     "slide_type": "slide"
    }
   },
   "outputs": [
    {
     "name": "stdout",
     "output_type": "stream",
     "text": [
      "Product_ID\n",
      "FE4532    Fender Stratocaster\n",
      "MA56a           Marshall MG15\n",
      "ROFP45            Roland FP30\n",
      "Name: Product_name, dtype: object\n"
     ]
    }
   ],
   "source": [
    "print(products.loc[prods].Product_name)"
   ]
  },
  {
   "cell_type": "markdown",
   "metadata": {
    "slideshow": {
     "slide_type": "skip"
    }
   },
   "source": [
    "See how the product list data frame we called prods is used as the index for looking up products in the index of the product data frame. We do not have to iterate through them one at a time - we just give the list of product IDs to look up. The resulting data frame matches the product name from the product frame to the IDs from the prods list."
   ]
  },
  {
   "cell_type": "markdown",
   "metadata": {
    "slideshow": {
     "slide_type": "skip"
    }
   },
   "source": [
    "There is actually a simpler built in function for doing this kind of thing in Pandas, called merge. Let's merge customers and orders, joining on the Email field."
   ]
  },
  {
   "cell_type": "code",
   "execution_count": 83,
   "metadata": {
    "slideshow": {
     "slide_type": "slide"
    }
   },
   "outputs": [
    {
     "data": {
      "text/html": [
       "<div>\n",
       "<style scoped>\n",
       "    .dataframe tbody tr th:only-of-type {\n",
       "        vertical-align: middle;\n",
       "    }\n",
       "\n",
       "    .dataframe tbody tr th {\n",
       "        vertical-align: top;\n",
       "    }\n",
       "\n",
       "    .dataframe thead th {\n",
       "        text-align: right;\n",
       "    }\n",
       "</style>\n",
       "<table border=\"1\" class=\"dataframe\">\n",
       "  <thead>\n",
       "    <tr style=\"text-align: right;\">\n",
       "      <th></th>\n",
       "      <th>Email</th>\n",
       "      <th>Name</th>\n",
       "      <th>Date</th>\n",
       "      <th>Product_ID</th>\n",
       "    </tr>\n",
       "  </thead>\n",
       "  <tbody>\n",
       "    <tr>\n",
       "      <th>0</th>\n",
       "      <td>john@gmail.com</td>\n",
       "      <td>John</td>\n",
       "      <td>23/05/2019</td>\n",
       "      <td>FE4532</td>\n",
       "    </tr>\n",
       "    <tr>\n",
       "      <th>1</th>\n",
       "      <td>john@gmail.com</td>\n",
       "      <td>John</td>\n",
       "      <td>04/06/2019</td>\n",
       "      <td>MA56a</td>\n",
       "    </tr>\n",
       "    <tr>\n",
       "      <th>2</th>\n",
       "      <td>john@gmail.com</td>\n",
       "      <td>John</td>\n",
       "      <td>01/02/2019</td>\n",
       "      <td>ROFP45</td>\n",
       "    </tr>\n",
       "    <tr>\n",
       "      <th>3</th>\n",
       "      <td>sim23@gmail.com</td>\n",
       "      <td>Simone</td>\n",
       "      <td>27/03/2019</td>\n",
       "      <td>GRM49</td>\n",
       "    </tr>\n",
       "    <tr>\n",
       "      <th>4</th>\n",
       "      <td>Sally@gmail.com</td>\n",
       "      <td>Sally</td>\n",
       "      <td>16/05/2019</td>\n",
       "      <td>TJ980</td>\n",
       "    </tr>\n",
       "    <tr>\n",
       "      <th>5</th>\n",
       "      <td>Limail@gmail.com</td>\n",
       "      <td>Li</td>\n",
       "      <td>17/05/2019</td>\n",
       "      <td>ROFP45</td>\n",
       "    </tr>\n",
       "    <tr>\n",
       "      <th>6</th>\n",
       "      <td>Limail@gmail.com</td>\n",
       "      <td>Li</td>\n",
       "      <td>18/05/2019</td>\n",
       "      <td>TJ980</td>\n",
       "    </tr>\n",
       "  </tbody>\n",
       "</table>\n",
       "</div>"
      ],
      "text/plain": [
       "              Email    Name        Date Product_ID\n",
       "0    john@gmail.com    John  23/05/2019     FE4532\n",
       "1    john@gmail.com    John  04/06/2019      MA56a\n",
       "2    john@gmail.com    John  01/02/2019     ROFP45\n",
       "3   sim23@gmail.com  Simone  27/03/2019      GRM49\n",
       "4   Sally@gmail.com   Sally  16/05/2019      TJ980\n",
       "5  Limail@gmail.com      Li  17/05/2019     ROFP45\n",
       "6  Limail@gmail.com      Li  18/05/2019      TJ980"
      ]
     },
     "metadata": {},
     "output_type": "display_data"
    }
   ],
   "source": [
    "display(pd.merge(customers, orders, on='Email'))"
   ]
  },
  {
   "cell_type": "markdown",
   "metadata": {
    "slideshow": {
     "slide_type": "skip"
    }
   },
   "source": [
    "Now we can select rows from this merged frame, so to find all the orders made by John, we do this"
   ]
  },
  {
   "cell_type": "code",
   "execution_count": 84,
   "metadata": {
    "slideshow": {
     "slide_type": "slide"
    }
   },
   "outputs": [
    {
     "data": {
      "text/html": [
       "<div>\n",
       "<style scoped>\n",
       "    .dataframe tbody tr th:only-of-type {\n",
       "        vertical-align: middle;\n",
       "    }\n",
       "\n",
       "    .dataframe tbody tr th {\n",
       "        vertical-align: top;\n",
       "    }\n",
       "\n",
       "    .dataframe thead th {\n",
       "        text-align: right;\n",
       "    }\n",
       "</style>\n",
       "<table border=\"1\" class=\"dataframe\">\n",
       "  <thead>\n",
       "    <tr style=\"text-align: right;\">\n",
       "      <th></th>\n",
       "      <th>Email</th>\n",
       "      <th>Name</th>\n",
       "      <th>Date</th>\n",
       "      <th>Product_ID</th>\n",
       "    </tr>\n",
       "  </thead>\n",
       "  <tbody>\n",
       "    <tr>\n",
       "      <th>0</th>\n",
       "      <td>john@gmail.com</td>\n",
       "      <td>John</td>\n",
       "      <td>23/05/2019</td>\n",
       "      <td>FE4532</td>\n",
       "    </tr>\n",
       "    <tr>\n",
       "      <th>1</th>\n",
       "      <td>john@gmail.com</td>\n",
       "      <td>John</td>\n",
       "      <td>04/06/2019</td>\n",
       "      <td>MA56a</td>\n",
       "    </tr>\n",
       "    <tr>\n",
       "      <th>2</th>\n",
       "      <td>john@gmail.com</td>\n",
       "      <td>John</td>\n",
       "      <td>01/02/2019</td>\n",
       "      <td>ROFP45</td>\n",
       "    </tr>\n",
       "  </tbody>\n",
       "</table>\n",
       "</div>"
      ],
      "text/plain": [
       "            Email  Name        Date Product_ID\n",
       "0  john@gmail.com  John  23/05/2019     FE4532\n",
       "1  john@gmail.com  John  04/06/2019      MA56a\n",
       "2  john@gmail.com  John  01/02/2019     ROFP45"
      ]
     },
     "metadata": {},
     "output_type": "display_data"
    }
   ],
   "source": [
    "display(pd.merge(customers, orders[orders['Email']==\"john@gmail.com\"], on='Email'))"
   ]
  },
  {
   "cell_type": "markdown",
   "metadata": {
    "slideshow": {
     "slide_type": "skip"
    }
   },
   "source": [
    "Finally, we can merge all three tables into one large list of all customer, product and order information"
   ]
  },
  {
   "cell_type": "code",
   "execution_count": 85,
   "metadata": {
    "scrolled": true,
    "slideshow": {
     "slide_type": "slide"
    }
   },
   "outputs": [
    {
     "data": {
      "text/html": [
       "<div>\n",
       "<style scoped>\n",
       "    .dataframe tbody tr th:only-of-type {\n",
       "        vertical-align: middle;\n",
       "    }\n",
       "\n",
       "    .dataframe tbody tr th {\n",
       "        vertical-align: top;\n",
       "    }\n",
       "\n",
       "    .dataframe thead th {\n",
       "        text-align: right;\n",
       "    }\n",
       "</style>\n",
       "<table border=\"1\" class=\"dataframe\">\n",
       "  <thead>\n",
       "    <tr style=\"text-align: right;\">\n",
       "      <th></th>\n",
       "      <th>Email</th>\n",
       "      <th>Name</th>\n",
       "      <th>Date</th>\n",
       "      <th>Product_ID</th>\n",
       "      <th>Product_name</th>\n",
       "      <th>Type</th>\n",
       "      <th>Price</th>\n",
       "    </tr>\n",
       "  </thead>\n",
       "  <tbody>\n",
       "    <tr>\n",
       "      <th>0</th>\n",
       "      <td>john@gmail.com</td>\n",
       "      <td>John</td>\n",
       "      <td>23/05/2019</td>\n",
       "      <td>FE4532</td>\n",
       "      <td>Fender Stratocaster</td>\n",
       "      <td>Guitar</td>\n",
       "      <td>399</td>\n",
       "    </tr>\n",
       "    <tr>\n",
       "      <th>1</th>\n",
       "      <td>john@gmail.com</td>\n",
       "      <td>John</td>\n",
       "      <td>04/06/2019</td>\n",
       "      <td>MA56a</td>\n",
       "      <td>Marshall MG15</td>\n",
       "      <td>Amplifier</td>\n",
       "      <td>79</td>\n",
       "    </tr>\n",
       "    <tr>\n",
       "      <th>2</th>\n",
       "      <td>john@gmail.com</td>\n",
       "      <td>John</td>\n",
       "      <td>01/02/2019</td>\n",
       "      <td>ROFP45</td>\n",
       "      <td>Roland FP30</td>\n",
       "      <td>Keyboard</td>\n",
       "      <td>490</td>\n",
       "    </tr>\n",
       "    <tr>\n",
       "      <th>3</th>\n",
       "      <td>Limail@gmail.com</td>\n",
       "      <td>Li</td>\n",
       "      <td>17/05/2019</td>\n",
       "      <td>ROFP45</td>\n",
       "      <td>Roland FP30</td>\n",
       "      <td>Keyboard</td>\n",
       "      <td>490</td>\n",
       "    </tr>\n",
       "    <tr>\n",
       "      <th>4</th>\n",
       "      <td>sim23@gmail.com</td>\n",
       "      <td>Simone</td>\n",
       "      <td>27/03/2019</td>\n",
       "      <td>GRM49</td>\n",
       "      <td>Gretsch Mini</td>\n",
       "      <td>Drum</td>\n",
       "      <td>280</td>\n",
       "    </tr>\n",
       "    <tr>\n",
       "      <th>5</th>\n",
       "      <td>Sally@gmail.com</td>\n",
       "      <td>Sally</td>\n",
       "      <td>16/05/2019</td>\n",
       "      <td>TJ980</td>\n",
       "      <td>Trevor James TJ5X</td>\n",
       "      <td>Flute</td>\n",
       "      <td>240</td>\n",
       "    </tr>\n",
       "    <tr>\n",
       "      <th>6</th>\n",
       "      <td>Limail@gmail.com</td>\n",
       "      <td>Li</td>\n",
       "      <td>18/05/2019</td>\n",
       "      <td>TJ980</td>\n",
       "      <td>Trevor James TJ5X</td>\n",
       "      <td>Flute</td>\n",
       "      <td>240</td>\n",
       "    </tr>\n",
       "  </tbody>\n",
       "</table>\n",
       "</div>"
      ],
      "text/plain": [
       "              Email    Name        Date Product_ID         Product_name  \\\n",
       "0    john@gmail.com    John  23/05/2019     FE4532  Fender Stratocaster   \n",
       "1    john@gmail.com    John  04/06/2019      MA56a        Marshall MG15   \n",
       "2    john@gmail.com    John  01/02/2019     ROFP45          Roland FP30   \n",
       "3  Limail@gmail.com      Li  17/05/2019     ROFP45          Roland FP30   \n",
       "4   sim23@gmail.com  Simone  27/03/2019      GRM49         Gretsch Mini   \n",
       "5   Sally@gmail.com   Sally  16/05/2019      TJ980    Trevor James TJ5X   \n",
       "6  Limail@gmail.com      Li  18/05/2019      TJ980    Trevor James TJ5X   \n",
       "\n",
       "        Type  Price  \n",
       "0     Guitar    399  \n",
       "1  Amplifier     79  \n",
       "2   Keyboard    490  \n",
       "3   Keyboard    490  \n",
       "4       Drum    280  \n",
       "5      Flute    240  \n",
       "6      Flute    240  "
      ]
     },
     "metadata": {},
     "output_type": "display_data"
    }
   ],
   "source": [
    "alldata = customers.merge(orders, on='Email').merge(products, on='Product_ID')\n",
    "display(alldata)"
   ]
  },
  {
   "cell_type": "markdown",
   "metadata": {
    "slideshow": {
     "slide_type": "skip"
    }
   },
   "source": [
    "We can get that data frame better organised by setting the indexes."
   ]
  },
  {
   "cell_type": "code",
   "execution_count": 86,
   "metadata": {
    "slideshow": {
     "slide_type": "slide"
    }
   },
   "outputs": [
    {
     "data": {
      "text/html": [
       "<div>\n",
       "<style scoped>\n",
       "    .dataframe tbody tr th:only-of-type {\n",
       "        vertical-align: middle;\n",
       "    }\n",
       "\n",
       "    .dataframe tbody tr th {\n",
       "        vertical-align: top;\n",
       "    }\n",
       "\n",
       "    .dataframe thead th {\n",
       "        text-align: right;\n",
       "    }\n",
       "</style>\n",
       "<table border=\"1\" class=\"dataframe\">\n",
       "  <thead>\n",
       "    <tr style=\"text-align: right;\">\n",
       "      <th></th>\n",
       "      <th></th>\n",
       "      <th>Name</th>\n",
       "      <th>Date</th>\n",
       "      <th>Product_name</th>\n",
       "      <th>Type</th>\n",
       "      <th>Price</th>\n",
       "    </tr>\n",
       "    <tr>\n",
       "      <th>Email</th>\n",
       "      <th>Product_ID</th>\n",
       "      <th></th>\n",
       "      <th></th>\n",
       "      <th></th>\n",
       "      <th></th>\n",
       "      <th></th>\n",
       "    </tr>\n",
       "  </thead>\n",
       "  <tbody>\n",
       "    <tr>\n",
       "      <th rowspan=\"3\" valign=\"top\">john@gmail.com</th>\n",
       "      <th>FE4532</th>\n",
       "      <td>John</td>\n",
       "      <td>23/05/2019</td>\n",
       "      <td>Fender Stratocaster</td>\n",
       "      <td>Guitar</td>\n",
       "      <td>399</td>\n",
       "    </tr>\n",
       "    <tr>\n",
       "      <th>MA56a</th>\n",
       "      <td>John</td>\n",
       "      <td>04/06/2019</td>\n",
       "      <td>Marshall MG15</td>\n",
       "      <td>Amplifier</td>\n",
       "      <td>79</td>\n",
       "    </tr>\n",
       "    <tr>\n",
       "      <th>ROFP45</th>\n",
       "      <td>John</td>\n",
       "      <td>01/02/2019</td>\n",
       "      <td>Roland FP30</td>\n",
       "      <td>Keyboard</td>\n",
       "      <td>490</td>\n",
       "    </tr>\n",
       "    <tr>\n",
       "      <th>Limail@gmail.com</th>\n",
       "      <th>ROFP45</th>\n",
       "      <td>Li</td>\n",
       "      <td>17/05/2019</td>\n",
       "      <td>Roland FP30</td>\n",
       "      <td>Keyboard</td>\n",
       "      <td>490</td>\n",
       "    </tr>\n",
       "    <tr>\n",
       "      <th>sim23@gmail.com</th>\n",
       "      <th>GRM49</th>\n",
       "      <td>Simone</td>\n",
       "      <td>27/03/2019</td>\n",
       "      <td>Gretsch Mini</td>\n",
       "      <td>Drum</td>\n",
       "      <td>280</td>\n",
       "    </tr>\n",
       "    <tr>\n",
       "      <th>Sally@gmail.com</th>\n",
       "      <th>TJ980</th>\n",
       "      <td>Sally</td>\n",
       "      <td>16/05/2019</td>\n",
       "      <td>Trevor James TJ5X</td>\n",
       "      <td>Flute</td>\n",
       "      <td>240</td>\n",
       "    </tr>\n",
       "    <tr>\n",
       "      <th>Limail@gmail.com</th>\n",
       "      <th>TJ980</th>\n",
       "      <td>Li</td>\n",
       "      <td>18/05/2019</td>\n",
       "      <td>Trevor James TJ5X</td>\n",
       "      <td>Flute</td>\n",
       "      <td>240</td>\n",
       "    </tr>\n",
       "  </tbody>\n",
       "</table>\n",
       "</div>"
      ],
      "text/plain": [
       "                               Name        Date         Product_name  \\\n",
       "Email            Product_ID                                            \n",
       "john@gmail.com   FE4532        John  23/05/2019  Fender Stratocaster   \n",
       "                 MA56a         John  04/06/2019        Marshall MG15   \n",
       "                 ROFP45        John  01/02/2019          Roland FP30   \n",
       "Limail@gmail.com ROFP45          Li  17/05/2019          Roland FP30   \n",
       "sim23@gmail.com  GRM49       Simone  27/03/2019         Gretsch Mini   \n",
       "Sally@gmail.com  TJ980        Sally  16/05/2019    Trevor James TJ5X   \n",
       "Limail@gmail.com TJ980           Li  18/05/2019    Trevor James TJ5X   \n",
       "\n",
       "                                  Type  Price  \n",
       "Email            Product_ID                    \n",
       "john@gmail.com   FE4532         Guitar    399  \n",
       "                 MA56a       Amplifier     79  \n",
       "                 ROFP45       Keyboard    490  \n",
       "Limail@gmail.com ROFP45       Keyboard    490  \n",
       "sim23@gmail.com  GRM49            Drum    280  \n",
       "Sally@gmail.com  TJ980           Flute    240  \n",
       "Limail@gmail.com TJ980           Flute    240  "
      ]
     },
     "execution_count": 86,
     "metadata": {},
     "output_type": "execute_result"
    }
   ],
   "source": [
    "alldata.set_index(['Email','Product_ID'])"
   ]
  },
  {
   "cell_type": "markdown",
   "metadata": {
    "slideshow": {
     "slide_type": "skip"
    }
   },
   "source": [
    "One last aspect of joins needs explaining before we finish. Technically, the joins we have been doing so far have been known as inner joins. The rows in the resulting table are formed by joining all the rows in one table with a matching value in the chosen field in the other table. The alternative, which is called an outer join produces a new table that contains all the rows in one table whether they have a match in the other table or not. In addition, the new table also has matching data from a second table where a match exists. Cells are empty if no match is found. For example, an outer join of products on orders shoud show all the products, whether they have been sold or not plus details of who bought them if they were sold. In Python, you specify an outer join using an arguement to the merge function called how. Here is the code."
   ]
  },
  {
   "cell_type": "code",
   "execution_count": 87,
   "metadata": {
    "slideshow": {
     "slide_type": "slide"
    }
   },
   "outputs": [
    {
     "data": {
      "text/html": [
       "<div>\n",
       "<style scoped>\n",
       "    .dataframe tbody tr th:only-of-type {\n",
       "        vertical-align: middle;\n",
       "    }\n",
       "\n",
       "    .dataframe tbody tr th {\n",
       "        vertical-align: top;\n",
       "    }\n",
       "\n",
       "    .dataframe thead th {\n",
       "        text-align: right;\n",
       "    }\n",
       "</style>\n",
       "<table border=\"1\" class=\"dataframe\">\n",
       "  <thead>\n",
       "    <tr style=\"text-align: right;\">\n",
       "      <th></th>\n",
       "      <th>Product_ID</th>\n",
       "      <th>Product_name</th>\n",
       "      <th>Type</th>\n",
       "      <th>Price</th>\n",
       "      <th>Email</th>\n",
       "      <th>Date</th>\n",
       "    </tr>\n",
       "  </thead>\n",
       "  <tbody>\n",
       "    <tr>\n",
       "      <th>0</th>\n",
       "      <td>FE4532</td>\n",
       "      <td>Fender Stratocaster</td>\n",
       "      <td>Guitar</td>\n",
       "      <td>399</td>\n",
       "      <td>john@gmail.com</td>\n",
       "      <td>23/05/2019</td>\n",
       "    </tr>\n",
       "    <tr>\n",
       "      <th>1</th>\n",
       "      <td>MA56a</td>\n",
       "      <td>Marshall MG15</td>\n",
       "      <td>Amplifier</td>\n",
       "      <td>79</td>\n",
       "      <td>john@gmail.com</td>\n",
       "      <td>04/06/2019</td>\n",
       "    </tr>\n",
       "    <tr>\n",
       "      <th>2</th>\n",
       "      <td>ROFP45</td>\n",
       "      <td>Roland FP30</td>\n",
       "      <td>Keyboard</td>\n",
       "      <td>490</td>\n",
       "      <td>john@gmail.com</td>\n",
       "      <td>01/02/2019</td>\n",
       "    </tr>\n",
       "    <tr>\n",
       "      <th>3</th>\n",
       "      <td>ROFP45</td>\n",
       "      <td>Roland FP30</td>\n",
       "      <td>Keyboard</td>\n",
       "      <td>490</td>\n",
       "      <td>Limail@gmail.com</td>\n",
       "      <td>17/05/2019</td>\n",
       "    </tr>\n",
       "    <tr>\n",
       "      <th>4</th>\n",
       "      <td>GRM49</td>\n",
       "      <td>Gretsch Mini</td>\n",
       "      <td>Drum</td>\n",
       "      <td>280</td>\n",
       "      <td>sim23@gmail.com</td>\n",
       "      <td>27/03/2019</td>\n",
       "    </tr>\n",
       "    <tr>\n",
       "      <th>5</th>\n",
       "      <td>TJ980</td>\n",
       "      <td>Trevor James TJ5X</td>\n",
       "      <td>Flute</td>\n",
       "      <td>240</td>\n",
       "      <td>Sally@gmail.com</td>\n",
       "      <td>16/05/2019</td>\n",
       "    </tr>\n",
       "    <tr>\n",
       "      <th>6</th>\n",
       "      <td>TJ980</td>\n",
       "      <td>Trevor James TJ5X</td>\n",
       "      <td>Flute</td>\n",
       "      <td>240</td>\n",
       "      <td>Limail@gmail.com</td>\n",
       "      <td>18/05/2019</td>\n",
       "    </tr>\n",
       "    <tr>\n",
       "      <th>7</th>\n",
       "      <td>PS541</td>\n",
       "      <td>Pulse Stand</td>\n",
       "      <td>Music Stand</td>\n",
       "      <td>17</td>\n",
       "      <td>NaN</td>\n",
       "      <td>NaN</td>\n",
       "    </tr>\n",
       "    <tr>\n",
       "      <th>8</th>\n",
       "      <td>YT665</td>\n",
       "      <td>Yamaha YTR2330</td>\n",
       "      <td>Trumpet</td>\n",
       "      <td>400</td>\n",
       "      <td>NaN</td>\n",
       "      <td>NaN</td>\n",
       "    </tr>\n",
       "  </tbody>\n",
       "</table>\n",
       "</div>"
      ],
      "text/plain": [
       "  Product_ID         Product_name         Type  Price             Email  \\\n",
       "0     FE4532  Fender Stratocaster       Guitar    399    john@gmail.com   \n",
       "1      MA56a        Marshall MG15    Amplifier     79    john@gmail.com   \n",
       "2     ROFP45          Roland FP30     Keyboard    490    john@gmail.com   \n",
       "3     ROFP45          Roland FP30     Keyboard    490  Limail@gmail.com   \n",
       "4      GRM49         Gretsch Mini         Drum    280   sim23@gmail.com   \n",
       "5      TJ980    Trevor James TJ5X        Flute    240   Sally@gmail.com   \n",
       "6      TJ980    Trevor James TJ5X        Flute    240  Limail@gmail.com   \n",
       "7      PS541          Pulse Stand  Music Stand     17               NaN   \n",
       "8      YT665       Yamaha YTR2330      Trumpet    400               NaN   \n",
       "\n",
       "         Date  \n",
       "0  23/05/2019  \n",
       "1  04/06/2019  \n",
       "2  01/02/2019  \n",
       "3  17/05/2019  \n",
       "4  27/03/2019  \n",
       "5  16/05/2019  \n",
       "6  18/05/2019  \n",
       "7         NaN  \n",
       "8         NaN  "
      ]
     },
     "metadata": {},
     "output_type": "display_data"
    }
   ],
   "source": [
    "display(pd.merge(products, orders, how='left', on='Product_ID'))"
   ]
  },
  {
   "cell_type": "markdown",
   "metadata": {
    "slideshow": {
     "slide_type": "skip"
    }
   },
   "source": [
    "See in the resulting table, we have all the instruments, even those that have not yet been sold, which are the final two in the list. The values in the email and date column are undefined."
   ]
  }
 ],
 "metadata": {
  "kernelspec": {
   "display_name": "Python 3 (ipykernel)",
   "language": "python",
   "name": "python3"
  },
  "language_info": {
   "codemirror_mode": {
    "name": "ipython",
    "version": 3
   },
   "file_extension": ".py",
   "mimetype": "text/x-python",
   "name": "python",
   "nbconvert_exporter": "python",
   "pygments_lexer": "ipython3",
   "version": "3.11.5"
  },
  "rise": {
   "controls": false,
   "slideNumber": false
  }
 },
 "nbformat": 4,
 "nbformat_minor": 2
}
